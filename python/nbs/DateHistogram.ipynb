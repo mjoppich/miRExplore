{
 "cells": [
  {
   "cell_type": "code",
   "execution_count": 1,
   "metadata": {},
   "outputs": [],
   "source": [
    "import os, sys\n",
    "import numpy\n",
    "from collections import defaultdict, Counter\n",
    "import datetime\n"
   ]
  },
  {
   "cell_type": "code",
   "execution_count": 2,
   "metadata": {},
   "outputs": [
    {
     "name": "stdout",
     "output_type": "stream",
     "text": [
      "/mnt/d/dev/git/miRExplore/python/nbs\n",
      "['/mnt/d/dev/git/miRExplore/python', '/mnt/d/dev/git/miRExplore/python/nbs', '/usr/lib/python38.zip', '/usr/lib/python3.8', '/usr/lib/python3.8/lib-dynload', '', '/usr/local/lib/python3.8/dist-packages', '/usr/lib/python3/dist-packages', '/usr/local/lib/python3.8/dist-packages/IPython/extensions', '/home/mjoppich/.ipython']\n"
     ]
    }
   ],
   "source": [
    "print(os.getcwd())\n",
    "sys.path.insert(0, str(os.path.dirname(os.path.realpath(os.getcwd()))))\n",
    "print(sys.path)"
   ]
  },
  {
   "cell_type": "code",
   "execution_count": 3,
   "metadata": {},
   "outputs": [],
   "source": [
    "from textdb.PubmedDateDB import PubmedDateDB\n",
    "from synonymes.mirnaID import miRNA, miRNAPART\n",
    "from textdb.MiGenRelDB import MiGenRelDB"
   ]
  },
  {
   "cell_type": "code",
   "execution_count": 4,
   "metadata": {},
   "outputs": [
    {
     "name": "stderr",
     "output_type": "stream",
     "text": [
      "Loading Dates\n",
      "Loading Dates Finished\n"
     ]
    }
   ],
   "source": [
    "allDatesFile = \"/mnt/d/dev/data/pmid_jun2020/aggregated_pmid/allpmids.date\"\n",
    "sentDB = PubmedDateDB.loadFromFile(allDatesFile)"
   ]
  },
  {
   "cell_type": "code",
   "execution_count": 5,
   "metadata": {},
   "outputs": [
    {
     "data": {
      "text/plain": [
       "31295217"
      ]
     },
     "execution_count": 5,
     "metadata": {},
     "output_type": "execute_result"
    }
   ],
   "source": [
    "len(sentDB.docid2date)"
   ]
  },
  {
   "cell_type": "code",
   "execution_count": 6,
   "metadata": {},
   "outputs": [
    {
     "data": {
      "text/plain": [
       "(2019, 8, 2)"
      ]
     },
     "execution_count": 6,
     "metadata": {},
     "output_type": "execute_result"
    }
   ],
   "source": [
    "sentDB.get_document(\"31378854\")"
   ]
  },
  {
   "cell_type": "code",
   "execution_count": 128,
   "metadata": {},
   "outputs": [],
   "source": [
    "ym2pmids = defaultdict(set)\n",
    "for x in sentDB.docid2date:\n",
    "    ddate = list(sentDB.docid2date[x])\n",
    "    \n",
    "    if ddate[0] == 0:\n",
    "        continue\n",
    "        \n",
    "    if ddate[1] == 0:\n",
    "        ddate[1] = 1\n",
    "    ddate[2] = 1\n",
    "    \n",
    "    try:\n",
    "        ym2pmids[datetime.datetime.strptime(\"{}-{}-{}\".format(*ddate), '%Y-%m-%d')].add(x)\n",
    "    except:\n",
    "        print(ddate)\n",
    "        break"
   ]
  },
  {
   "cell_type": "code",
   "execution_count": null,
   "metadata": {},
   "outputs": [],
   "source": []
  },
  {
   "cell_type": "code",
   "execution_count": 129,
   "metadata": {},
   "outputs": [],
   "source": [
    "ym2counts = Counter()\n",
    "for date in ym2pmids:\n",
    "    ym2counts[date] += len(ym2pmids[date])"
   ]
  },
  {
   "cell_type": "code",
   "execution_count": 138,
   "metadata": {},
   "outputs": [],
   "source": [
    "import numpy as np\n",
    "import matplotlib.pyplot as plt\n",
    "import matplotlib.dates as mdates\n",
    "import seaborn as sns; sns.set()\n",
    "\n",
    "def plotDateCounts(xdates, ydata, fname=None):\n",
    "    years = mdates.YearLocator()   # every year\n",
    "    months = mdates.MonthLocator()  # every month\n",
    "    years_fmt = mdates.DateFormatter('%Y')\n",
    "\n",
    "    fig, ax = plt.subplots(figsize=(12,6))\n",
    "    \"\"\"\n",
    "    xdatesTS = [datetime.datetime.timestamp(x) for x in xdates]\n",
    "    allyears = sorted(set([int(x.year) for x in xdates]))\n",
    "    \n",
    "    minYearNum = min(allyears)\n",
    "    maxYearNum = max(allyears)\n",
    "    \n",
    "    minYear = datetime.datetime.strptime(\"{}-1-1\".format(minYearNum), '%Y-%m-%d')\n",
    "    maxYear = datetime.datetime.strptime(\"{}-12-31\".format(maxYearNum), '%Y-%m-%d')\n",
    "    \n",
    "    betweenTicks = []\n",
    "    for i in range(minYear.year+1, maxYear.year+1):\n",
    "        betweenTicks.append(\n",
    "            datetime.datetime.strptime(\"{}-1-1\".format(i), '%Y-%m-%d')\n",
    "        )\n",
    "        \n",
    "    allticks = [minYear] + betweenTicks + [maxYear]\n",
    "    \"\"\"\n",
    "    sns.scatterplot(x=xdates, y=ydata, ax=ax)\n",
    "    \n",
    "\n",
    "    # format the ticks\n",
    "    ax.xaxis.set_major_locator(years)\n",
    "    ax.xaxis.set_major_formatter(years_fmt)\n",
    "    ax.xaxis.set_minor_locator(months)\n",
    "\n",
    "    # round to nearest years.\n",
    "    ax.set_xlim(min(xdates), max(xdates))\n",
    "    #ax.set_xticks([datetime.datetime.timestamp(x) for x in allticks])\n",
    "    #xticks = ax.get_xticks()\n",
    "    #xticks_dates=[datetime.datetime.fromtimestamp(x).strftime('%Y-%m') for x in xticks]\n",
    "    #ax.set_xticklabels(xticks_dates)\n",
    "    # format the coords message box\n",
    "    ax.format_xdata = mdates.DateFormatter('%Y-%m-%d')\n",
    "    #ax.format_ydata = lambda x: '$%1.2f' % x  # format the price.\n",
    "    ax.grid(True)\n",
    "    \n",
    "\n",
    "    # rotates and right aligns the x labels, and moves the bottom of the\n",
    "    # axes up to make room for them\n",
    "    #fig.autofmt_xdate()\n",
    "    plt.xticks(rotation=90, ha=\"center\")\n",
    "\n",
    "    if fname != None:\n",
    "        plt.savefig(fname)\n",
    "    plt.show()"
   ]
  },
  {
   "cell_type": "code",
   "execution_count": 131,
   "metadata": {},
   "outputs": [
    {
     "data": {
      "image/png": "[encoded data removed]",
      "text/plain": [
       "<Figure size 864x432 with 1 Axes>"
      ]
     },
     "metadata": {},
     "output_type": "display_data"
    }
   ],
   "source": [
    "xdates = sorted([x for x in ym2counts])\n",
    "xdates = [x for x in xdates if x.year >= 1980]\n",
    "ydata = [ym2counts[x] for x in xdates]\n",
    "\n",
    "plotDateCounts(xdates, ydata)"
   ]
  },
  {
   "cell_type": "code",
   "execution_count": 132,
   "metadata": {},
   "outputs": [
    {
     "data": {
      "text/plain": [
       "29317804"
      ]
     },
     "execution_count": 132,
     "metadata": {},
     "output_type": "execute_result"
    }
   ],
   "source": [
    "sum([ym2counts[x] for x in ym2counts])"
   ]
  },
  {
   "cell_type": "code",
   "execution_count": 15,
   "metadata": {},
   "outputs": [
    {
     "name": "stdout",
     "output_type": "stream",
     "text": [
      "MAP3K7 TAB1\n"
     ]
    }
   ],
   "source": [
    "from utils.tmutils import normalize_gene_names\n",
    "normGeneSymbols = normalize_gene_names(path=\"/mnt/d/owncloud/data/miRExplore/obodir/\" + \"/hgnc_no_withdrawn.syn\")"
   ]
  },
  {
   "cell_type": "code",
   "execution_count": 16,
   "metadata": {},
   "outputs": [
    {
     "name": "stdout",
     "output_type": "stream",
     "text": [
      "Loading hsa\n",
      "Gene Symbols Normalized 77476\n",
      "Loaded file /mnt/d/dev/data/pmid_jun2020/aggregated_pmid//mirna_gene.hsa.pmid\n",
      "Accepted Doc IDs 40682\n",
      "Rejected Doc IDs 0\n",
      "Loading mmu\n",
      "Gene Symbols Normalized 12366\n",
      "Loaded file /mnt/d/dev/data/pmid_jun2020/aggregated_pmid//mirna_gene.mmu.pmid\n",
      "Accepted Doc IDs 36942\n",
      "Rejected Doc IDs 0\n"
     ]
    }
   ],
   "source": [
    "pmidBase =\"/mnt/d/dev/data/pmid_jun2020/aggregated_pmid/\"\n",
    "\n",
    "print(\"Loading hsa\")\n",
    "mirelPMIDhsa = MiGenRelDB.loadFromFile(pmidBase + \"/mirna_gene.hsa.pmid\", ltype=\"mirna\", rtype=\"gene\", normGeneSymbols=normGeneSymbols, switchLR=True, stopAfter=-1)\n",
    "print(\"Loading mmu\")\n",
    "mirelPMIDmmu = MiGenRelDB.loadFromFile(pmidBase + \"/mirna_gene.mmu.pmid\", ltype=\"mirna\", rtype=\"gene\", normGeneSymbols=normGeneSymbols, switchLR=True, stopAfter=-1)\n",
    "\n",
    "relDBs = [mirelPMIDhsa, mirelPMIDmmu]"
   ]
  },
  {
   "cell_type": "code",
   "execution_count": 18,
   "metadata": {},
   "outputs": [],
   "source": [
    "miRNAGenePMIDs = set()\n",
    "for rdb in relDBs:\n",
    "    for rpmid in rdb.get_evidence_docids():\n",
    "        miRNAGenePMIDs.add(rpmid)"
   ]
  },
  {
   "cell_type": "code",
   "execution_count": null,
   "metadata": {},
   "outputs": [],
   "source": []
  },
  {
   "cell_type": "code",
   "execution_count": null,
   "metadata": {},
   "outputs": [],
   "source": []
  },
  {
   "cell_type": "code",
   "execution_count": 133,
   "metadata": {},
   "outputs": [
    {
     "name": "stdout",
     "output_type": "stream",
     "text": [
      "36037\n"
     ]
    }
   ],
   "source": [
    "ym2InteractionCounts = Counter()\n",
    "countsperYear = Counter()\n",
    "totalPMIDs = 0\n",
    "for date in ym2pmids:\n",
    "    intersectPMIDs = len(miRNAGenePMIDs.intersection(ym2pmids[date]))\n",
    "    ym2InteractionCounts[date] += intersectPMIDs\n",
    "    totalPMIDs += intersectPMIDs\n",
    "    countsperYear[date.year] += intersectPMIDs\n",
    "    \n",
    "print(totalPMIDs)"
   ]
  },
  {
   "cell_type": "code",
   "execution_count": 134,
   "metadata": {},
   "outputs": [
    {
     "data": {
      "text/plain": [
       "36037"
      ]
     },
     "execution_count": 134,
     "metadata": {},
     "output_type": "execute_result"
    }
   ],
   "source": [
    "sum([ym2InteractionCounts[x] for x in ym2InteractionCounts])"
   ]
  },
  {
   "cell_type": "code",
   "execution_count": 135,
   "metadata": {},
   "outputs": [
    {
     "name": "stdout",
     "output_type": "stream",
     "text": [
      "1980 0\n",
      "1981 0\n",
      "1982 0\n",
      "1983 0\n",
      "1984 0\n",
      "1985 0\n",
      "1986 0\n",
      "1987 0\n",
      "1988 0\n",
      "1989 1\n",
      "1990 1\n",
      "1991 1\n",
      "1992 1\n",
      "1993 1\n",
      "1994 0\n",
      "1995 0\n",
      "1996 1\n",
      "1997 0\n",
      "1998 0\n",
      "1999 2\n",
      "2000 1\n",
      "2001 1\n",
      "2002 1\n",
      "2003 4\n",
      "2004 9\n",
      "2005 21\n",
      "2006 42\n",
      "2007 121\n",
      "2008 285\n",
      "2009 541\n",
      "2010 856\n",
      "2011 1270\n",
      "2012 1723\n",
      "2013 2375\n",
      "2014 2940\n",
      "2015 3903\n",
      "2016 3945\n",
      "2017 4699\n",
      "2018 5255\n",
      "2019 5509\n",
      "2020 2528\n",
      "2021 0\n"
     ]
    }
   ],
   "source": [
    "for x in sorted(countsperYear):\n",
    "    if x < 1980:\n",
    "        continue\n",
    "    \n",
    "    print(x, countsperYear[x])"
   ]
  },
  {
   "cell_type": "code",
   "execution_count": 136,
   "metadata": {},
   "outputs": [
    {
     "data": {
      "text/plain": [
       "[datetime.datetime(1781, 1, 1, 0, 0),\n",
       " datetime.datetime(1781, 2, 1, 0, 0),\n",
       " datetime.datetime(1781, 3, 1, 0, 0),\n",
       " datetime.datetime(1781, 4, 1, 0, 0),\n",
       " datetime.datetime(1781, 5, 1, 0, 0),\n",
       " datetime.datetime(2020, 11, 1, 0, 0),\n",
       " datetime.datetime(2020, 12, 1, 0, 0),\n",
       " datetime.datetime(2021, 1, 1, 0, 0),\n",
       " datetime.datetime(2021, 3, 1, 0, 0),\n",
       " datetime.datetime(2021, 4, 1, 0, 0)]"
      ]
     },
     "execution_count": 136,
     "metadata": {},
     "output_type": "execute_result"
    }
   ],
   "source": [
    "sDates = sorted([d for d in ym2InteractionCounts])\n",
    "\n",
    "sDates[:5]+sDates[-5:]"
   ]
  },
  {
   "cell_type": "code",
   "execution_count": 139,
   "metadata": {},
   "outputs": [
    {
     "name": "stdout",
     "output_type": "stream",
     "text": [
      "[datetime.datetime(2005, 1, 1, 0, 0), datetime.datetime(2005, 2, 1, 0, 0), datetime.datetime(2005, 3, 1, 0, 0), datetime.datetime(2005, 4, 1, 0, 0), datetime.datetime(2005, 5, 1, 0, 0), datetime.datetime(2020, 8, 1, 0, 0), datetime.datetime(2020, 9, 1, 0, 0), datetime.datetime(2020, 10, 1, 0, 0), datetime.datetime(2020, 11, 1, 0, 0), datetime.datetime(2020, 12, 1, 0, 0)]\n"
     ]
    },
    {
     "data": {
      "image/png": "[encoded data removed]",
      "text/plain": [
       "<Figure size 864x432 with 1 Axes>"
      ]
     },
     "metadata": {},
     "output_type": "display_data"
    }
   ],
   "source": [
    "xdates = sorted([x for x in ym2InteractionCounts])\n",
    "xdates = [x for x in xdates if x.year >= 2005 and x.year < 2021]\n",
    "ydata = [ym2InteractionCounts[x] for x in xdates]\n",
    "\n",
    "ycumdata = [ydata[0]]\n",
    "for i in range(1, len(ydata)):\n",
    "    cumCount = ycumdata[-1] + ydata[i]\n",
    "    ycumdata.append(cumCount)\n",
    "\n",
    "print(xdates[:5]+xdates[-5:])\n",
    "plotDateCounts(xdates, ycumdata, \"pubmed_mirna_gene.png\")\n"
   ]
  },
  {
   "cell_type": "code",
   "execution_count": 140,
   "metadata": {},
   "outputs": [
    {
     "data": {
      "text/plain": [
       "192"
      ]
     },
     "execution_count": 140,
     "metadata": {},
     "output_type": "execute_result"
    }
   ],
   "source": [
    "len(ycumdata)"
   ]
  }
 ],
 "metadata": {
  "kernelspec": {
   "display_name": "Python 3",
   "language": "python",
   "name": "python3"
  },
  "language_info": {
   "codemirror_mode": {
    "name": "ipython",
    "version": 3
   },
   "file_extension": ".py",
   "mimetype": "text/x-python",
   "name": "python",
   "nbconvert_exporter": "python",
   "pygments_lexer": "ipython3",
   "version": "3.8.2"
  }
 },
 "nbformat": 4,
 "nbformat_minor": 4
}
