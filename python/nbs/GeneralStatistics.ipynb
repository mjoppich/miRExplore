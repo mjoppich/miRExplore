{
 "cells": [
  {
   "cell_type": "code",
   "execution_count": 1,
   "metadata": {},
   "outputs": [],
   "source": [
    "%load_ext autoreload\n",
    "%autoreload 2\n",
    "\n",
    "import os, sys\n",
    "import numpy\n",
    "from collections import defaultdict, Counter\n",
    "import datetime\n"
   ]
  },
  {
   "cell_type": "code",
   "execution_count": 2,
   "metadata": {},
   "outputs": [
    {
     "name": "stdout",
     "output_type": "stream",
     "text": [
      "/mnt/d/dev/git/miRExplore/python/nbs\n",
      "['/mnt/d/dev/git/miRExplore/python', '/mnt/d/dev/git/miRExplore/python/nbs', '/usr/lib/python38.zip', '/usr/lib/python3.8', '/usr/lib/python3.8/lib-dynload', '', '/usr/local/lib/python3.8/dist-packages', '/usr/lib/python3/dist-packages', '/usr/local/lib/python3.8/dist-packages/IPython/extensions', '/home/mjoppich/.ipython']\n"
     ]
    }
   ],
   "source": [
    "print(os.getcwd())\n",
    "sys.path.insert(0, str(os.path.dirname(os.path.realpath(os.getcwd()))))\n",
    "print(sys.path)"
   ]
  },
  {
   "cell_type": "code",
   "execution_count": 3,
   "metadata": {},
   "outputs": [],
   "source": [
    "%autoreload 2\n",
    "from textdb.PubmedDateDB import PubmedDateDB\n",
    "%autoreload 2\n",
    "from synonymes.mirnaID import miRNA, miRNAPART\n",
    "%autoreload 2\n",
    "from textdb.MiGenRelDB import MiGenRelDB,MiRGeneRel\n",
    "%autoreload 2\n",
    "from synonymes.GeneOntology import GeneOntology\n",
    "%autoreload 2\n",
    "from textdb.PMID2XDB import PMID2XDB\n"
   ]
  },
  {
   "cell_type": "code",
   "execution_count": 4,
   "metadata": {},
   "outputs": [],
   "source": [
    "pmidBase =\"/mnt/d/dev/data/pmid_jun2020/aggregated_pmid/\"\n",
    "obodir = \"/mnt/d/dev/data/pmid_jun2020/obodir/\""
   ]
  },
  {
   "cell_type": "code",
   "execution_count": 5,
   "metadata": {},
   "outputs": [],
   "source": [
    "from utils.tmutils import normalize_gene_names\n",
    "normGeneSymbols = normalize_gene_names(path=\"/mnt/d/owncloud/data/miRExplore/obodir/\" + \"/hgnc_no_withdrawn.syn\")"
   ]
  },
  {
   "cell_type": "code",
   "execution_count": 6,
   "metadata": {},
   "outputs": [
    {
     "name": "stdout",
     "output_type": "stream",
     "text": [
      "Loading hsa\n",
      "Gene Symbols Normalized 77476\n",
      "Loaded file /mnt/d/dev/data/pmid_jun2020/aggregated_pmid//mirna_gene.hsa.pmid\n",
      "Accepted Doc IDs 40682\n",
      "Rejected Doc IDs 0\n",
      "Seen genes 7906\n",
      "Seen miRNAs 2116\n",
      "Seen Harm. miRNAs 1615\n",
      "Loading mmu\n",
      "Gene Symbols Normalized 12366\n",
      "Loaded file /mnt/d/dev/data/pmid_jun2020/aggregated_pmid//mirna_gene.mmu.pmid\n",
      "Accepted Doc IDs 36942\n",
      "Rejected Doc IDs 0\n",
      "Seen genes 6428\n",
      "Seen miRNAs 2049\n",
      "Seen Harm. miRNAs 1578\n"
     ]
    }
   ],
   "source": [
    "print(\"Loading hsa\")\n",
    "mirelPMIDhsa = MiGenRelDB.loadFromFile(pmidBase + \"/mirna_gene.hsa.pmid\", ltype=\"mirna\", rtype=\"gene\", normGeneSymbols=normGeneSymbols, switchLR=True, stopAfter=-1)\n",
    "print(\"Loading mmu\")\n",
    "mirelPMIDmmu = MiGenRelDB.loadFromFile(pmidBase + \"/mirna_gene.mmu.pmid\", ltype=\"mirna\", rtype=\"gene\", normGeneSymbols=normGeneSymbols, switchLR=True, stopAfter=-1)\n",
    "\n",
    "relDBs = [mirelPMIDhsa, mirelPMIDmmu]"
   ]
  },
  {
   "cell_type": "code",
   "execution_count": 7,
   "metadata": {},
   "outputs": [],
   "source": [
    "miRNAGenePMIDs = set()\n",
    "for rdb in relDBs:\n",
    "    for rpmid in rdb.get_evidence_docids():\n",
    "        miRNAGenePMIDs.add(rpmid)"
   ]
  },
  {
   "cell_type": "code",
   "execution_count": 8,
   "metadata": {},
   "outputs": [
    {
     "data": {
      "text/plain": [
       "36251"
      ]
     },
     "execution_count": 8,
     "metadata": {},
     "output_type": "execute_result"
    }
   ],
   "source": [
    "len(miRNAGenePMIDs)"
   ]
  },
  {
   "cell_type": "code",
   "execution_count": 9,
   "metadata": {},
   "outputs": [
    {
     "name": "stderr",
     "output_type": "stream",
     "text": [
      "0\n",
      "10000\n",
      "no parent 2382\n"
     ]
    }
   ],
   "source": [
    "diseaseObo = GeneOntology(obodir + \"/doid.obo\")\n",
    "\n",
    "#{'group': 'disease', 'termid': 'DOID:1936', 'name': 'atherosclerosis'}\n",
    "#{'group': 'disease', 'termid': 'DOID:2349', 'name': 'arteriosclerosis'}\n",
    "#{'group': 'disease', 'termid': 'DOID:1287', 'name': 'cardiovascular system disease'},\n",
    "elemTerm = diseaseObo['DOID:1936']\n",
    "elemTerms = [x.term.id for x in elemTerm.getAllChildren()] + [elemTerm.id]\n",
    "\n",
    "cvTerm = diseaseObo['DOID:1287']\n",
    "cvTerms = [x.term.id for x in cvTerm.getAllChildren()] + [cvTerm.id] + elemTerms\n",
    "\n",
    "pmid2disease = PMID2XDB.loadFromFile(pmidBase + \"/disease.pmid\", diseaseObo, miRNAGenePMIDs)"
   ]
  },
  {
   "cell_type": "code",
   "execution_count": 10,
   "metadata": {},
   "outputs": [
    {
     "name": "stdout",
     "output_type": "stream",
     "text": [
      "Number of genes with interaction 7176\n"
     ]
    }
   ],
   "source": [
    "# number of genes with interaction\n",
    "allGenes = set()\n",
    "\n",
    "for rdb in relDBs:\n",
    "    allGenes = allGenes.union(set(rdb.all_ltypes))\n",
    "\n",
    "print(\"Number of genes with interaction\", len(allGenes))"
   ]
  },
  {
   "cell_type": "code",
   "execution_count": 11,
   "metadata": {},
   "outputs": [
    {
     "name": "stdout",
     "output_type": "stream",
     "text": [
      "Number of mirnas with interaction 1121\n",
      "DO NOT USE THIS NUMBER!!!!\n"
     ]
    }
   ],
   "source": [
    "# number of miRNAs with interaction\n",
    "## restrict to miR-x\n",
    "allMirnas = set()\n",
    "for rdb in relDBs:\n",
    "    for mirna in rdb.all_rtypes:\n",
    "\n",
    "        try:\n",
    "            mirObj = miRNA(mirna)\n",
    "            allMirnas.add(mirObj.getStringFromParts([miRNAPART.MATURE, miRNAPART.ID, miRNAPART.PRECURSOR]))\n",
    "\n",
    "        except:\n",
    "\n",
    "            print(mirna)\n",
    "            exit(-1)\n",
    "\n",
    "print(\"Number of mirnas with interaction\", len(allMirnas))\n",
    "print(\"DO NOT USE THIS NUMBER!!!!\")"
   ]
  },
  {
   "cell_type": "code",
   "execution_count": 12,
   "metadata": {},
   "outputs": [
    {
     "name": "stdout",
     "output_type": "stream",
     "text": [
      "miR-521 <class 'str'>\n",
      "miR-144 <class 'str'>\n",
      "miR-494-mediated <class 'str'>\n",
      "hsa-miR-627 <class 'str'>\n",
      "miR-466d <class 'str'>\n",
      "miR-466l <class 'str'>\n",
      "miR-497 <class 'str'>\n",
      "miR-3651 <class 'str'>\n",
      "miR-7706 <class 'str'>\n",
      "miR-144 <class 'str'>\n",
      "miR-494-mediated <class 'str'>\n",
      "miR-466d <class 'str'>\n",
      "miR-466l <class 'str'>\n",
      "miR-497 <class 'str'>\n",
      "miR-3651 <class 'str'>\n",
      "miR-7706 <class 'str'>\n",
      "miR-613 <class 'str'>\n",
      "miR-669c <class 'str'>\n"
     ]
    }
   ],
   "source": [
    "for rdb in relDBs:\n",
    "    for midx, mirna in enumerate(rdb.all_rtypes):\n",
    "        print(mirna, type(mirna))\n",
    "        \n",
    "        if midx > 7:\n",
    "            break\n",
    "    "
   ]
  },
  {
   "cell_type": "code",
   "execution_count": 17,
   "metadata": {},
   "outputs": [
    {
     "name": "stdout",
     "output_type": "stream",
     "text": [
      "Short miRNAs 1121\n",
      "Full miRNAs 1498\n"
     ]
    }
   ],
   "source": [
    "seenFullMirs = set()\n",
    "seenShortMirs = set()\n",
    "\n",
    "for rdb in relDBs:\n",
    "\n",
    "    for gidx, gene in enumerate(rdb.ltype2rel):\n",
    "\n",
    "        for rel in rdb.ltype2rel[gene]:\n",
    "            \n",
    "            \n",
    "            mirstr = rel.orig_names[1]\n",
    "            \n",
    "            assert(mirstr == rel.rid)\n",
    "            \n",
    "            omir = miRNA(mirstr)\n",
    "            fullMirna = omir.getStringFromParts([miRNAPART.MATURE, miRNAPART.ID, miRNAPART.PRECURSOR, miRNAPART.MATURE_SEQS, miRNAPART.ARM])\n",
    "            shortMirna = omir.getStringFromParts([miRNAPART.MATURE, miRNAPART.ID, miRNAPART.PRECURSOR])\n",
    "            \n",
    "            #print(mirstr, fullMirna)\n",
    "            \n",
    "            seenFullMirs.add(fullMirna)\n",
    "            seenShortMirs.add(shortMirna)\n",
    "\n",
    "            \n",
    "print(\"Short miRNAs\", len(seenShortMirs))\n",
    "print(\"Full miRNAs\", len(seenFullMirs))"
   ]
  },
  {
   "cell_type": "code",
   "execution_count": 25,
   "metadata": {},
   "outputs": [],
   "source": [
    "\n",
    "\n",
    "def calculateStatistics(filter=None):\n",
    "\n",
    "    interactionsWithDisease = set()\n",
    "\n",
    "    interactionsWithAthero = set()\n",
    "    atheroPubmeds = set()\n",
    "    cvPubmeds = set()\n",
    "    allPubmeds = set()\n",
    "\n",
    "    interactionsWithCV = set()\n",
    "    totalMirnas = set()\n",
    "    totalMirnasFull = set()\n",
    "    totalGenes = set()\n",
    "\n",
    "    totalInteractions = set()\n",
    "    \n",
    "    interactionByRegDir = defaultdict(set)\n",
    "\n",
    "    for rdb in relDBs:\n",
    "\n",
    "        for gene in rdb.ltype2rel:\n",
    "\n",
    "            for rel in rdb.ltype2rel[gene]:\n",
    "\n",
    "                #print(rel)\n",
    "                #assert(1==0)\n",
    "\n",
    "\n",
    "                if filter != None:\n",
    "                    \n",
    "                    if filter(rel):\n",
    "                        continue\n",
    "\n",
    "                \n",
    "                        \n",
    "                mirObj = miRNA(rel.rid)\n",
    "                \n",
    "                fullMirna = mirObj.getStringFromParts([miRNAPART.MATURE, miRNAPART.ID, miRNAPART.PRECURSOR, miRNAPART.MATURE_SEQS, miRNAPART.ARM])\n",
    "                totalMirnasFull.add(fullMirna)\n",
    "\n",
    "                baseMirna = mirObj.getStringFromParts([miRNAPART.MATURE, miRNAPART.ID, miRNAPART.PRECURSOR])\n",
    "                intTuple = (rel.lid, baseMirna)\n",
    "\n",
    "                totalInteractions.add(intTuple)\n",
    "                \n",
    "                interactionByRegDir[(rel.assocInt, rel.assocCat)].add(intTuple)\n",
    "                \n",
    "                totalMirnas.add(intTuple[1])\n",
    "                totalGenes.add(intTuple[0])\n",
    "\n",
    "                docID = rel.docid\n",
    "                retVal = pmid2disease.getDOC(docID)\n",
    "\n",
    "                allPubmeds.add(docID)\n",
    "\n",
    "                if retVal != None:\n",
    "\n",
    "\n",
    "                    interactionsWithDisease.add(intTuple)\n",
    "\n",
    "                    for docDisease in retVal:\n",
    "\n",
    "                        if docDisease['termid'] in elemTerms:\n",
    "                            interactionsWithAthero.add(intTuple)\n",
    "                            atheroPubmeds.add(docID)\n",
    "\n",
    "                        if docDisease['termid'] in cvTerms:\n",
    "                            interactionsWithCV.add(intTuple)\n",
    "                            cvPubmeds.add(docID)\n",
    "                            \n",
    "    print(\"Different miRNAs\", len(totalMirnas))\n",
    "    print(\"Different miRNAs (full)\", len(totalMirnasFull))\n",
    "    print(\"Different genes\", len(totalGenes))\n",
    "\n",
    "    print(\"total Interactions\", len(totalInteractions))\n",
    "    print(\"total mirnas in interactions\", len(set([x[1] for x in totalInteractions])))\n",
    "\n",
    "\n",
    "    print(\"total interactions with disease\", len(interactionsWithDisease))\n",
    "    print(\"total mirnas in interactions with disease\", len(set([x[1] for x in interactionsWithDisease])))\n",
    "\n",
    "    atheroMirnas = set([x[1] for x in interactionsWithAthero])\n",
    "    atheroGenes = set([x[0] for x in interactionsWithAthero])\n",
    "\n",
    "    print(\"total interactions with athero\", len(interactionsWithAthero))\n",
    "    print(\"total mirnas in interactions with athero\", len(atheroMirnas))\n",
    "    print(\"total genes in interactions with athero\", len(atheroGenes))\n",
    "    print(\"total pubmeds for interactions with athero\", len(atheroPubmeds))\n",
    "    print(\"total pubmeds for interactions with cv\", len(cvPubmeds))\n",
    "    print(\"total pubmeds for interactions\", len(allPubmeds))\n",
    "\n",
    "    print(\"total interactions with cv\", len(interactionsWithCV))\n",
    "    print(\"total mirnas in interactions with cv\", len(set([x[1] for x in interactionsWithCV])))\n",
    "    \n",
    "    print()\n",
    "    \n",
    "    for x in sorted(interactionByRegDir):\n",
    "        print(x, len(interactionByRegDir[x]))"
   ]
  },
  {
   "cell_type": "code",
   "execution_count": 26,
   "metadata": {},
   "outputs": [
    {
     "name": "stdout",
     "output_type": "stream",
     "text": [
      "Different miRNAs 1121\n",
      "Different miRNAs (full) 1498\n",
      "Different genes 7176\n",
      "total Interactions 58814\n",
      "total mirnas in interactions 1121\n",
      "total interactions with disease 47466\n",
      "total mirnas in interactions with disease 1024\n",
      "total interactions with athero 1161\n",
      "total mirnas in interactions with athero 153\n",
      "total genes in interactions with athero 491\n",
      "total pubmeds for interactions with athero 412\n",
      "total pubmeds for interactions with cv 2655\n",
      "total pubmeds for interactions 36251\n",
      "total interactions with cv 6173\n",
      "total mirnas in interactions with cv 420\n",
      "\n",
      "('GENE_MIR', 'DOWN') 7056\n",
      "('GENE_MIR', 'NEU') 12263\n",
      "('GENE_MIR', 'UP') 6816\n",
      "('MIR_GENE', 'CHNAGE') 5\n",
      "('MIR_GENE', 'DOWN') 25139\n",
      "('MIR_GENE', 'NEU') 36647\n",
      "('MIR_GENE', 'UP') 12461\n"
     ]
    }
   ],
   "source": [
    "calculateStatistics()"
   ]
  },
  {
   "cell_type": "code",
   "execution_count": 27,
   "metadata": {},
   "outputs": [
    {
     "name": "stdout",
     "output_type": "stream",
     "text": [
      "Different miRNAs 881\n",
      "Different miRNAs (full) 1143\n",
      "Different genes 5180\n",
      "total Interactions 31097\n",
      "total mirnas in interactions 881\n",
      "total interactions with disease 24580\n",
      "total mirnas in interactions with disease 796\n",
      "total interactions with athero 702\n",
      "total mirnas in interactions with athero 122\n",
      "total genes in interactions with athero 338\n",
      "total pubmeds for interactions with athero 243\n",
      "total pubmeds for interactions with cv 1207\n",
      "total pubmeds for interactions 16259\n",
      "total interactions with cv 3059\n",
      "total mirnas in interactions with cv 302\n",
      "\n",
      "('GENE_MIR', 'DOWN') 3472\n",
      "('GENE_MIR', 'NEU') 5553\n",
      "('GENE_MIR', 'UP') 3347\n",
      "('MIR_GENE', 'DOWN') 13540\n",
      "('MIR_GENE', 'NEU') 18373\n",
      "('MIR_GENE', 'UP') 6542\n"
     ]
    }
   ],
   "source": [
    "def filterFunc(rel):\n",
    "    relOrgs = rel.orgs\n",
    "    if relOrgs == None:\n",
    "        relOrgs = set()\n",
    "\n",
    "    if not ('mmu' in relOrgs or 'hsa' in relOrgs):\n",
    "        return True\n",
    "    \n",
    "    return False\n",
    "\n",
    "calculateStatistics(filterFunc)"
   ]
  },
  {
   "cell_type": "code",
   "execution_count": null,
   "metadata": {},
   "outputs": [],
   "source": [
    "                "
   ]
  },
  {
   "cell_type": "code",
   "execution_count": null,
   "metadata": {},
   "outputs": [],
   "source": []
  },
  {
   "cell_type": "code",
   "execution_count": null,
   "metadata": {},
   "outputs": [],
   "source": []
  },
  {
   "cell_type": "code",
   "execution_count": null,
   "metadata": {},
   "outputs": [],
   "source": []
  },
  {
   "cell_type": "code",
   "execution_count": null,
   "metadata": {},
   "outputs": [],
   "source": []
  }
 ],
 "metadata": {
  "kernelspec": {
   "display_name": "Python 3",
   "language": "python",
   "name": "python3"
  },
  "language_info": {
   "codemirror_mode": {
    "name": "ipython",
    "version": 3
   },
   "file_extension": ".py",
   "mimetype": "text/x-python",
   "name": "python",
   "nbconvert_exporter": "python",
   "pygments_lexer": "ipython3",
   "version": "3.8.2"
  }
 },
 "nbformat": 4,
 "nbformat_minor": 4
}
