{
 "cells": [
  {
   "cell_type": "code",
   "execution_count": 21,
   "metadata": {},
   "outputs": [
    {
     "name": "stdout",
     "output_type": "stream",
     "text": [
      "The autoreload extension is already loaded. To reload it, use:\n",
      "  %reload_ext autoreload\n"
     ]
    }
   ],
   "source": [
    "%load_ext autoreload\n",
    "%autoreload 2\n",
    "\n",
    "import os, sys\n",
    "import numpy\n",
    "from collections import defaultdict, Counter\n",
    "import datetime\n",
    "\n",
    "from upsetplot import from_contents,plot\n",
    "import matplotlib.pyplot as plt\n"
   ]
  },
  {
   "cell_type": "code",
   "execution_count": 2,
   "metadata": {},
   "outputs": [
    {
     "name": "stdout",
     "output_type": "stream",
     "text": [
      "/mnt/f/dev/git/miRExplore/python/nbs\n",
      "['/mnt/f/dev/git/miRExplore/python', '/mnt/f/dev/git/miRExplore/python/nbs', '/usr/lib/python38.zip', '/usr/lib/python3.8', '/usr/lib/python3.8/lib-dynload', '', '/usr/local/lib/python3.8/dist-packages', '/usr/local/lib/python3.8/dist-packages/mpld3-0.3.1.dev1-py3.8.egg', '/usr/lib/python3/dist-packages', '/usr/local/lib/python3.8/dist-packages/IPython/extensions', '/home/mjoppich/.ipython']\n"
     ]
    }
   ],
   "source": [
    "print(os.getcwd())\n",
    "sys.path.insert(0, str(os.path.dirname(os.path.realpath(os.getcwd()))))\n",
    "print(sys.path)"
   ]
  },
  {
   "cell_type": "code",
   "execution_count": 22,
   "metadata": {},
   "outputs": [],
   "source": [
    "%autoreload 2\n",
    "from textdb.PubmedDateDB import PubmedDateDB\n",
    "%autoreload 2\n",
    "from synonymes.mirnaID import miRNA, miRNAPART\n",
    "%autoreload 2\n",
    "from textdb.MiGenRelDB import MiGenRelDB,MiRGeneRel\n",
    "%autoreload 2\n",
    "from synonymes.GeneOntology import GeneOntology\n",
    "%autoreload 2\n",
    "from textdb.PMID2XDB import PMID2XDB\n",
    "from textdb.PMID2PMCDB import PMID2PMCDB\n",
    "from textdb.MirTarBaseDB import MirTarBaseDB\n",
    "from analysis.miRecordDB import miRecordDB\n",
    "from textdb.DIANATarbaseDB import DIANATarbaseDB\n"
   ]
  },
  {
   "cell_type": "code",
   "execution_count": 24,
   "metadata": {},
   "outputs": [],
   "source": [
    "pmidBase =\"/mnt/f/dev/data/pmid_jun2020/aggregated_pmid/\"\n",
    "pmcBase =\"/mnt/f/dev/data/pmid_jun2020/aggregated_pmc/\"\n",
    "obodir = \"/mnt/f/dev/data/pmid_jun2020/obodir/\"\n",
    "\n",
    "fileDir = os.path.dirname(os.path.realpath(os.getcwd()))"
   ]
  },
  {
   "cell_type": "code",
   "execution_count": 5,
   "metadata": {},
   "outputs": [],
   "source": [
    "from utils.tmutils import normalize_gene_names\n",
    "normGeneSymbols = normalize_gene_names(path=\"/mnt/d/owncloud/data/miRExplore/obodir/\" + \"/hgnc_no_withdrawn.syn\")"
   ]
  },
  {
   "cell_type": "code",
   "execution_count": 68,
   "metadata": {},
   "outputs": [],
   "source": [
    "pmid2pmcDB = PMID2PMCDB.loadFromFile(pmcBase + '/pmc2pmid', PMC2PMID=True)\n",
    "excludePMIDs = pmid2pmcDB.getAllPMIDs()\n",
    "excludePMCs = pmid2pmcDB.getAllPMCs()"
   ]
  },
  {
   "cell_type": "code",
   "execution_count": 69,
   "metadata": {},
   "outputs": [
    {
     "name": "stdout",
     "output_type": "stream",
     "text": [
      "Loading hsa\n",
      "Gene Symbols Normalized 77476\n",
      "Loaded file /mnt/f/dev/data/pmid_jun2020/aggregated_pmid//mirna_gene.hsa.pmid\n",
      "Accepted Doc IDs 40682\n",
      "Rejected Doc IDs 0\n",
      "Seen genes 7906\n",
      "Seen miRNAs 2116\n",
      "Seen Harm. miRNAs 1615\n",
      "Loading mmu\n",
      "Gene Symbols Normalized 12375\n",
      "Loaded file /mnt/f/dev/data/pmid_jun2020/aggregated_pmid//mirna_gene.mmu.pmid\n",
      "Accepted Doc IDs 36823\n",
      "Rejected Doc IDs 0\n",
      "Seen genes 6431\n",
      "Seen miRNAs 2048\n",
      "Seen Harm. miRNAs 1578\n",
      "Loading hsa\n",
      "Gene Symbols Normalized 104649\n",
      "Loaded file /mnt/f/dev/data/pmid_jun2020/aggregated_pmc//mirna_gene.hsa.pmid\n",
      "Accepted Doc IDs 10749\n",
      "Rejected Doc IDs 0\n",
      "Seen genes 6911\n",
      "Seen miRNAs 1868\n",
      "Seen Harm. miRNAs 1312\n",
      "Loading mmu\n",
      "Gene Symbols Normalized 23456\n",
      "Loaded file /mnt/f/dev/data/pmid_jun2020/aggregated_pmc//mirna_gene.mmu.pmid\n",
      "Accepted Doc IDs 10647\n",
      "Rejected Doc IDs 0\n",
      "Seen genes 6056\n",
      "Seen miRNAs 1872\n",
      "Seen Harm. miRNAs 1323\n"
     ]
    }
   ],
   "source": [
    "print(\"Loading hsa\")\n",
    "mirelPMIDhsa = MiGenRelDB.loadFromFile(pmidBase + \"/mirna_gene.hsa.pmid\", ltype=\"mirna\", rtype=\"gene\", normGeneSymbols=normGeneSymbols, switchLR=True, stopAfter=-1)\n",
    "print(\"Loading mmu\")\n",
    "mirelPMIDmmu = MiGenRelDB.loadFromFile(pmidBase + \"/mirna_gene.mmu.pmid\", ltype=\"mirna\", rtype=\"gene\", normGeneSymbols=normGeneSymbols, switchLR=True, stopAfter=-1)\n",
    "\n",
    "print(\"Loading hsa\")\n",
    "mirelPMChsa = MiGenRelDB.loadFromFile(pmcBase + \"/mirna_gene.hsa.pmid\", ltype=\"mirna\", rtype=\"gene\", normGeneSymbols=normGeneSymbols, switchLR=True, stopAfter=-1)\n",
    "print(\"Loading mmu\")\n",
    "mirelPMCmmu = MiGenRelDB.loadFromFile(pmcBase + \"/mirna_gene.mmu.pmid\", ltype=\"mirna\", rtype=\"gene\", normGeneSymbols=normGeneSymbols, switchLR=True, stopAfter=-1)\n",
    "\n",
    "\n",
    "\n",
    "relDBs = [mirelPMIDhsa, mirelPMIDmmu, mirelPMChsa, mirelPMCmmu]"
   ]
  },
  {
   "cell_type": "code",
   "execution_count": 50,
   "metadata": {},
   "outputs": [],
   "source": [
    "sourceCompLevel = [miRNAPART.MATURE, miRNAPART.ID] #, miRNAPART.PRECURSOR"
   ]
  },
  {
   "cell_type": "code",
   "execution_count": null,
   "metadata": {},
   "outputs": [],
   "source": [
    "recordsDB = miRecordDB.loadFromFile(filelocation=fileDir + \"/dbs/mirecords_v4.xlsx\", normGeneSymbols=normGeneSymbols)\n",
    "mirtarbaseDB = MirTarBaseDB.loadFromFile(filepath=fileDir + \"/dbs/miRTarBase.csv\", normGeneSymbols=normGeneSymbols)\n",
    "dianaDB, celllInfos = DIANATarbaseDB.loadFromFile(fileDir + \"/dbs/hsa_mmu.diana.csv\", normGeneSymbols=normGeneSymbols)\n"
   ]
  },
  {
   "cell_type": "code",
   "execution_count": 51,
   "metadata": {},
   "outputs": [],
   "source": [
    "tmInteractions = set()\n",
    "\n",
    "for rdb in relDBs:\n",
    "\n",
    "    for gene in rdb.ltype2rel:\n",
    "\n",
    "        for rel in rdb.ltype2rel[gene]:\n",
    "\n",
    "            mirObj = miRNA(rel.rid)\n",
    "\n",
    "            #fullMirna = mirObj.getStringFromParts([miRNAPART.MATURE, miRNAPART.ID, miRNAPART.PRECURSOR, miRNAPART.MATURE_SEQS, miRNAPART.ARM])\n",
    "            baseMirna = mirObj.getStringFromParts(sourceCompLevel)\n",
    "            intTuple = (rel.lid, baseMirna)\n",
    "\n",
    "            tmInteractions.add(intTuple)"
   ]
  },
  {
   "cell_type": "code",
   "execution_count": 52,
   "metadata": {},
   "outputs": [],
   "source": [
    "mirecordsInteractions = set()\n",
    "\n",
    "for gene in recordsDB.ltype2rel:\n",
    "\n",
    "    for rel in recordsDB.ltype2rel[gene]:\n",
    "\n",
    "        mirObj = miRNA(rel.rid)\n",
    "\n",
    "        #fullMirna = mirObj.getStringFromParts([miRNAPART.MATURE, miRNAPART.ID, miRNAPART.PRECURSOR, miRNAPART.MATURE_SEQS, miRNAPART.ARM])\n",
    "        baseMirna = mirObj.getStringFromParts(sourceCompLevel)\n",
    "        intTuple = (rel.lid, baseMirna)\n",
    "\n",
    "        mirecordsInteractions.add(intTuple)"
   ]
  },
  {
   "cell_type": "code",
   "execution_count": 53,
   "metadata": {},
   "outputs": [],
   "source": [
    "\n",
    "mirtarbaseInteractions = set()\n",
    "\n",
    "for gene in mirtarbaseDB.ltype2rel:\n",
    "\n",
    "    for rel in mirtarbaseDB.ltype2rel[gene]:\n",
    "\n",
    "        mirObj = miRNA(rel.rid)\n",
    "\n",
    "        #fullMirna = mirObj.getStringFromParts([miRNAPART.MATURE, miRNAPART.ID, miRNAPART.PRECURSOR, miRNAPART.MATURE_SEQS, miRNAPART.ARM])\n",
    "        baseMirna = mirObj.getStringFromParts(sourceCompLevel)\n",
    "        intTuple = (rel.lid, baseMirna)\n",
    "\n",
    "        mirtarbaseInteractions.add(intTuple)"
   ]
  },
  {
   "cell_type": "code",
   "execution_count": 54,
   "metadata": {},
   "outputs": [],
   "source": [
    "\n",
    "dianaInteractions = set()\n",
    "\n",
    "for gene in dianaDB.ltype2rel:\n",
    "\n",
    "    for rel in dianaDB.ltype2rel[gene]:\n",
    "\n",
    "        mirObj = miRNA(rel.rid)\n",
    "\n",
    "        #fullMirna = mirObj.getStringFromParts([miRNAPART.MATURE, miRNAPART.ID, miRNAPART.PRECURSOR, miRNAPART.MATURE_SEQS, miRNAPART.ARM])\n",
    "        baseMirna = mirObj.getStringFromParts( sourceCompLevel )\n",
    "        intTuple = (rel.lid, baseMirna)\n",
    "\n",
    "        dianaInteractions.add(intTuple)"
   ]
  },
  {
   "cell_type": "code",
   "execution_count": 55,
   "metadata": {},
   "outputs": [
    {
     "name": "stdout",
     "output_type": "stream",
     "text": [
      "[('FOXO1', 'miR-126'), ('CP', 'miR-17'), ('CD4', 'miR-124'), ('FAM138B', 'miR-15')]\n",
      "[('FLT1', 'miR-200'), ('MYLIP', 'miR-19'), ('NTRK3', 'miR-509'), ('TRMT13', 'miR-15')]\n",
      "[('C6ORF62', 'miR-92'), ('FOXE1', 'miR-3653'), ('KLHL4', 'miR-1236'), ('CLCC1', 'miR-7106')]\n",
      "[('C6ORF62', 'miR-92'), ('CCNG2', 'let-7'), ('COG3', 'miR-322'), ('PANK3', 'miR-132')]\n"
     ]
    }
   ],
   "source": [
    "print(list(tmInteractions)[:4])\n",
    "print(list(mirecordsInteractions)[:4])\n",
    "print(list(mirtarbaseInteractions)[:4])\n",
    "print(list(dianaInteractions)[:4])"
   ]
  },
  {
   "cell_type": "code",
   "execution_count": 56,
   "metadata": {},
   "outputs": [],
   "source": [
    "source2interactions = {}\n",
    "source2interactions[\"tm\"] = tmInteractions\n",
    "source2interactions[\"miRecords\"] = mirecordsInteractions\n",
    "source2interactions[\"miRTarBase\"] = mirtarbaseInteractions\n",
    "source2interactions[\"DIANA-TarBase\"] = dianaInteractions"
   ]
  },
  {
   "cell_type": "code",
   "execution_count": 59,
   "metadata": {},
   "outputs": [
    {
     "name": "stdout",
     "output_type": "stream",
     "text": [
      "('FOXO1', 'miR-126')\n",
      "('CD4', 'miR-124')\n",
      "('FAM138B', 'miR-15')\n",
      "('CD34', 'miR-150')\n",
      "('MC4R', 'miR-194')\n",
      "('SLC52A2', 'miR-200')\n"
     ]
    }
   ],
   "source": [
    "printed = 0\n",
    "for x in tmInteractions:\n",
    "    \n",
    "    if not x in source2interactions[\"miRecords\"]:\n",
    "        if not x in source2interactions[\"miRTarBase\"]:\n",
    "            if not x in source2interactions[\"DIANA-TarBase\"]:\n",
    "                \n",
    "                print(x)\n",
    "                printed += 1\n",
    "                \n",
    "                if printed > 5:\n",
    "                    break\n",
    "    "
   ]
  },
  {
   "cell_type": "code",
   "execution_count": 57,
   "metadata": {},
   "outputs": [
    {
     "data": {
      "image/png": "[encoded data removed]",
      "text/plain": [
       "<Figure size 627.375x320 with 4 Axes>"
      ]
     },
     "metadata": {
      "needs_background": "light"
     },
     "output_type": "display_data"
    }
   ],
   "source": [
    "upIn = from_contents(source2interactions)\n",
    "plot(upIn, subset_size=\"auto\", show_counts =True)\n",
    "plt.savefig(\"database_overlap_withpmc.png\")"
   ]
  },
  {
   "cell_type": "code",
   "execution_count": 10,
   "metadata": {},
   "outputs": [],
   "source": [
    "miRNAGenePMIDs = set()\n",
    "for rdb in relDBs:\n",
    "    for rpmid in rdb.get_evidence_docids():\n",
    "        miRNAGenePMIDs.add(rpmid)"
   ]
  },
  {
   "cell_type": "code",
   "execution_count": 11,
   "metadata": {},
   "outputs": [
    {
     "data": {
      "text/plain": [
       "44015"
      ]
     },
     "execution_count": 11,
     "metadata": {},
     "output_type": "execute_result"
    }
   ],
   "source": [
    "len(miRNAGenePMIDs)"
   ]
  },
  {
   "cell_type": "code",
   "execution_count": 12,
   "metadata": {},
   "outputs": [
    {
     "name": "stderr",
     "output_type": "stream",
     "text": [
      "0\n",
      "10000\n",
      "no parent 2382\n"
     ]
    }
   ],
   "source": [
    "diseaseObo = GeneOntology(obodir + \"/doid.obo\")\n",
    "\n",
    "#{'group': 'disease', 'termid': 'DOID:1936', 'name': 'atherosclerosis'}\n",
    "#{'group': 'disease', 'termid': 'DOID:2349', 'name': 'arteriosclerosis'}\n",
    "#{'group': 'disease', 'termid': 'DOID:1287', 'name': 'cardiovascular system disease'},\n",
    "elemTerm = diseaseObo['DOID:1936']\n",
    "elemTerms = [x.term.id for x in elemTerm.getAllChildren()] + [elemTerm.id]\n",
    "\n",
    "cvTerm = diseaseObo['DOID:1287']\n",
    "cvTerms = [x.term.id for x in cvTerm.getAllChildren()] + [cvTerm.id] + elemTerms\n",
    "\n",
    "pmid2disease = PMID2XDB.loadFromFile(pmidBase + \"/disease.pmid\", diseaseObo, miRNAGenePMIDs)"
   ]
  },
  {
   "cell_type": "code",
   "execution_count": 13,
   "metadata": {},
   "outputs": [
    {
     "name": "stdout",
     "output_type": "stream",
     "text": [
      "Number of genes with interaction 8779\n"
     ]
    }
   ],
   "source": [
    "# number of genes with interaction\n",
    "allGenes = set()\n",
    "\n",
    "for rdb in relDBs:\n",
    "    allGenes = allGenes.union(set(rdb.all_ltypes))\n",
    "\n",
    "print(\"Number of genes with interaction\", len(allGenes))"
   ]
  },
  {
   "cell_type": "code",
   "execution_count": 14,
   "metadata": {},
   "outputs": [
    {
     "name": "stdout",
     "output_type": "stream",
     "text": [
      "Number of mirnas with interaction 1307\n",
      "DO NOT USE THIS NUMBER!!!!\n"
     ]
    }
   ],
   "source": [
    "# number of miRNAs with interaction\n",
    "## restrict to miR-x\n",
    "allMirnas = set()\n",
    "for rdb in relDBs:\n",
    "    for mirna in rdb.all_rtypes:\n",
    "\n",
    "        try:\n",
    "            mirObj = miRNA(mirna)\n",
    "            allMirnas.add(mirObj.getStringFromParts([miRNAPART.MATURE, miRNAPART.ID, miRNAPART.PRECURSOR]))\n",
    "\n",
    "        except:\n",
    "\n",
    "            print(mirna)\n",
    "            exit(-1)\n",
    "\n",
    "print(\"Number of mirnas with interaction\", len(allMirnas))\n",
    "print(\"DO NOT USE THIS NUMBER!!!!\")"
   ]
  },
  {
   "cell_type": "code",
   "execution_count": 15,
   "metadata": {},
   "outputs": [
    {
     "name": "stdout",
     "output_type": "stream",
     "text": [
      "miR-339 <class 'str'>\n",
      "hsa-miR-3171 <class 'str'>\n",
      "hsa-miR-4306 <class 'str'>\n",
      "hsa-miR-92a <class 'str'>\n",
      "miR-150-mediated <class 'str'>\n",
      "hsa-miR-382 <class 'str'>\n",
      "miR-1827 <class 'str'>\n",
      "mmu-miR-223 <class 'str'>\n",
      "miR-196 <class 'str'>\n",
      "miR-339 <class 'str'>\n",
      "hsa-miR-3171 <class 'str'>\n",
      "hsa-miR-4306 <class 'str'>\n",
      "hsa-miR-92a <class 'str'>\n",
      "miR-150-mediated <class 'str'>\n",
      "hsa-miR-382 <class 'str'>\n",
      "miR-1827 <class 'str'>\n",
      "mmu-miR-223 <class 'str'>\n",
      "miR-196 <class 'str'>\n",
      "miR-1947 <class 'str'>\n",
      "miR-339 <class 'str'>\n",
      "hsa-miR-92a <class 'str'>\n",
      "miR-150-mediated <class 'str'>\n",
      "hsa-miR-382 <class 'str'>\n",
      "mmu-miR-16 <class 'str'>\n",
      "miR-1827 <class 'str'>\n",
      "miR-1194 <class 'str'>\n",
      "mmu-miR-223 <class 'str'>\n",
      "miR-1947 <class 'str'>\n",
      "miR-339 <class 'str'>\n",
      "miR-7150 <class 'str'>\n",
      "hsa-miR-92a <class 'str'>\n",
      "miR-150-mediated <class 'str'>\n",
      "hsa-miR-382 <class 'str'>\n",
      "mmu-miR-16 <class 'str'>\n",
      "miR-1827 <class 'str'>\n",
      "miR-1194 <class 'str'>\n"
     ]
    }
   ],
   "source": [
    "for rdb in relDBs:\n",
    "    for midx, mirna in enumerate(rdb.all_rtypes):\n",
    "        print(mirna, type(mirna))\n",
    "        \n",
    "        if midx > 7:\n",
    "            break\n",
    "    "
   ]
  },
  {
   "cell_type": "code",
   "execution_count": 16,
   "metadata": {},
   "outputs": [
    {
     "name": "stdout",
     "output_type": "stream",
     "text": [
      "Short miRNAs 1307\n",
      "Full miRNAs 1753\n"
     ]
    }
   ],
   "source": [
    "seenFullMirs = set()\n",
    "seenShortMirs = set()\n",
    "\n",
    "for rdb in relDBs:\n",
    "\n",
    "    for gidx, gene in enumerate(rdb.ltype2rel):\n",
    "\n",
    "        for rel in rdb.ltype2rel[gene]:\n",
    "            \n",
    "            \n",
    "            mirstr = rel.orig_names[1]\n",
    "            \n",
    "            assert(mirstr == rel.rid)\n",
    "            \n",
    "            omir = miRNA(mirstr)\n",
    "            fullMirna = omir.getStringFromParts([miRNAPART.MATURE, miRNAPART.ID, miRNAPART.PRECURSOR, miRNAPART.MATURE_SEQS, miRNAPART.ARM])\n",
    "            shortMirna = omir.getStringFromParts([miRNAPART.MATURE, miRNAPART.ID, miRNAPART.PRECURSOR])\n",
    "            \n",
    "            #print(mirstr, fullMirna)\n",
    "            \n",
    "            seenFullMirs.add(fullMirna)\n",
    "            seenShortMirs.add(shortMirna)\n",
    "\n",
    "            \n",
    "print(\"Short miRNAs\", len(seenShortMirs))\n",
    "print(\"Full miRNAs\", len(seenFullMirs))"
   ]
  },
  {
   "cell_type": "code",
   "execution_count": 70,
   "metadata": {},
   "outputs": [],
   "source": [
    "pmid2interactions = defaultdict(set)\n",
    "\n",
    "for rdb in [mirelPMIDhsa, mirelPMIDmmu]:\n",
    "\n",
    "    for gene in rdb.ltype2rel:\n",
    "\n",
    "        for rel in rdb.ltype2rel[gene]:\n",
    "\n",
    "            mirObj = miRNA(rel.rid)\n",
    "\n",
    "            fullMirna = mirObj.getStringFromParts([miRNAPART.MATURE, miRNAPART.ID, miRNAPART.PRECURSOR, miRNAPART.MATURE_SEQS, miRNAPART.ARM])\n",
    "            baseMirna = mirObj.getStringFromParts(sourceCompLevel)\n",
    "            \n",
    "            pmid2interactions[rel.docid].add( (rel.lid, baseMirna) )\n",
    "            pmid2interactions[rel.docid].add( (rel.lid, fullMirna) )"
   ]
  },
  {
   "cell_type": "code",
   "execution_count": 61,
   "metadata": {},
   "outputs": [],
   "source": [
    "\n",
    "\n",
    "def calculateStatistics(relDBs, filter=None):\n",
    "\n",
    "    interactionsWithDisease = set()\n",
    "\n",
    "    interactionsWithAthero = set()\n",
    "    atheroPubmeds = set()\n",
    "    cvPubmeds = set()\n",
    "    allPubmeds = set()\n",
    "\n",
    "    interactionsWithCV = set()\n",
    "    totalMirnas = set()\n",
    "    totalMirnasFull = set()\n",
    "    totalGenes = set()\n",
    "\n",
    "    totalInteractions = set()\n",
    "    \n",
    "    interactionByRegDir = defaultdict(set)\n",
    "\n",
    "    for rdb in relDBs:\n",
    "\n",
    "        for gene in rdb.ltype2rel:\n",
    "\n",
    "            for rel in rdb.ltype2rel[gene]:\n",
    "\n",
    "                #print(rel)\n",
    "                #assert(1==0)\n",
    "\n",
    "\n",
    "                if filter != None:\n",
    "                    \n",
    "                    if filter(rel):\n",
    "                        continue\n",
    "\n",
    "                \n",
    "                        \n",
    "                mirObj = miRNA(rel.rid)\n",
    "                \n",
    "                fullMirna = mirObj.getStringFromParts([miRNAPART.MATURE, miRNAPART.ID, miRNAPART.PRECURSOR, miRNAPART.MATURE_SEQS, miRNAPART.ARM])\n",
    "                totalMirnasFull.add(fullMirna)\n",
    "\n",
    "                baseMirna = mirObj.getStringFromParts([miRNAPART.MATURE, miRNAPART.ID, miRNAPART.PRECURSOR])\n",
    "                intTuple = (rel.lid, baseMirna)\n",
    "\n",
    "                totalInteractions.add(intTuple)\n",
    "                \n",
    "                interactionByRegDir[(rel.assocInt, rel.assocCat)].add(intTuple)\n",
    "                \n",
    "                totalMirnas.add(intTuple[1])\n",
    "                totalGenes.add(intTuple[0])\n",
    "\n",
    "                docID = rel.docid\n",
    "                retVal = pmid2disease.getDOC(docID)\n",
    "\n",
    "                allPubmeds.add(docID)\n",
    "\n",
    "                if retVal != None:\n",
    "\n",
    "\n",
    "                    interactionsWithDisease.add(intTuple)\n",
    "\n",
    "                    for docDisease in retVal:\n",
    "\n",
    "                        if docDisease['termid'] in elemTerms:\n",
    "                            interactionsWithAthero.add(intTuple)\n",
    "                            atheroPubmeds.add(docID)\n",
    "\n",
    "                        if docDisease['termid'] in cvTerms:\n",
    "                            interactionsWithCV.add(intTuple)\n",
    "                            cvPubmeds.add(docID)\n",
    "                            \n",
    "    print(\"Different miRNAs\", len(totalMirnas))\n",
    "    print(\"Different miRNAs (full)\", len(totalMirnasFull))\n",
    "    print(\"Different genes\", len(totalGenes))\n",
    "\n",
    "    print(\"total Interactions\", len(totalInteractions))\n",
    "    print(\"total mirnas in interactions\", len(set([x[1] for x in totalInteractions])))\n",
    "\n",
    "\n",
    "    print(\"total interactions with disease\", len(interactionsWithDisease))\n",
    "    print(\"total mirnas in interactions with disease\", len(set([x[1] for x in interactionsWithDisease])))\n",
    "\n",
    "    atheroMirnas = set([x[1] for x in interactionsWithAthero])\n",
    "    atheroGenes = set([x[0] for x in interactionsWithAthero])\n",
    "\n",
    "    print(\"total interactions with athero\", len(interactionsWithAthero))\n",
    "    print(\"total mirnas in interactions with athero\", len(atheroMirnas))\n",
    "    print(\"total genes in interactions with athero\", len(atheroGenes))\n",
    "    print(\"total pubmeds for interactions with athero\", len(atheroPubmeds))\n",
    "    print(\"total pubmeds for interactions with cv\", len(cvPubmeds))\n",
    "    print(\"total pubmeds for interactions\", len(allPubmeds))\n",
    "\n",
    "    print(\"total interactions with cv\", len(interactionsWithCV))\n",
    "    print(\"total mirnas in interactions with cv\", len(set([x[1] for x in interactionsWithCV])))\n",
    "    \n",
    "    print()\n",
    "    \n",
    "    for x in sorted(interactionByRegDir):\n",
    "        print(x, len(interactionByRegDir[x]))"
   ]
  },
  {
   "cell_type": "code",
   "execution_count": 62,
   "metadata": {},
   "outputs": [
    {
     "name": "stdout",
     "output_type": "stream",
     "text": [
      "Different miRNAs 1307\n",
      "Different miRNAs (full) 1753\n",
      "Different genes 8779\n",
      "total Interactions 94300\n",
      "total mirnas in interactions 1307\n",
      "total interactions with disease 43490\n",
      "total mirnas in interactions with disease 1007\n",
      "total interactions with athero 1017\n",
      "total mirnas in interactions with athero 152\n",
      "total genes in interactions with athero 456\n",
      "total pubmeds for interactions with athero 381\n",
      "total pubmeds for interactions with cv 2523\n",
      "total pubmeds for interactions 44015\n",
      "total interactions with cv 5798\n",
      "total mirnas in interactions with cv 425\n",
      "\n",
      "('GENE_MIR', 'CHNAGE') 2\n",
      "('GENE_MIR', 'DOWN') 12737\n",
      "('GENE_MIR', 'NEU') 26147\n",
      "('GENE_MIR', 'UP') 13179\n",
      "('MIR_GENE', 'CHNAGE') 5\n",
      "('MIR_GENE', 'DOWN') 36615\n",
      "('MIR_GENE', 'NAN') 2\n",
      "('MIR_GENE', 'NEU') 60527\n",
      "('MIR_GENE', 'UP') 21500\n"
     ]
    }
   ],
   "source": [
    "calculateStatistics(relDBs = [mirelPMIDhsa, mirelPMIDmmu])"
   ]
  },
  {
   "cell_type": "code",
   "execution_count": 64,
   "metadata": {},
   "outputs": [
    {
     "name": "stdout",
     "output_type": "stream",
     "text": [
      "Different miRNAs 979\n",
      "Different miRNAs (full) 1257\n",
      "Different genes 6256\n",
      "total Interactions 54499\n",
      "total mirnas in interactions 979\n",
      "total interactions with disease 0\n",
      "total mirnas in interactions with disease 0\n",
      "total interactions with athero 0\n",
      "total mirnas in interactions with athero 0\n",
      "total genes in interactions with athero 0\n",
      "total pubmeds for interactions with athero 0\n",
      "total pubmeds for interactions with cv 0\n",
      "total pubmeds for interactions 10152\n",
      "total interactions with cv 0\n",
      "total mirnas in interactions with cv 0\n",
      "\n",
      "('GENE_MIR', 'CHNAGE') 2\n",
      "('GENE_MIR', 'DOWN') 7278\n",
      "('GENE_MIR', 'NEU') 16792\n",
      "('GENE_MIR', 'UP') 7824\n",
      "('MIR_GENE', 'DOWN') 18501\n",
      "('MIR_GENE', 'NAN') 2\n",
      "('MIR_GENE', 'NEU') 34514\n",
      "('MIR_GENE', 'UP') 12512\n"
     ]
    }
   ],
   "source": [
    "calculateStatistics(relDBs = [mirelPMChsa, mirelPMCmmu])"
   ]
  },
  {
   "cell_type": "code",
   "execution_count": 73,
   "metadata": {},
   "outputs": [
    {
     "name": "stdout",
     "output_type": "stream",
     "text": [
      "Different miRNAs 974\n",
      "Different miRNAs (full) 1223\n",
      "Different genes 6169\n",
      "total Interactions 52945\n",
      "total mirnas in interactions 974\n",
      "total interactions with disease 0\n",
      "total mirnas in interactions with disease 0\n",
      "total interactions with athero 0\n",
      "total mirnas in interactions with athero 0\n",
      "total genes in interactions with athero 0\n",
      "total pubmeds for interactions with athero 0\n",
      "total pubmeds for interactions with cv 0\n",
      "total pubmeds for interactions 10118\n",
      "total interactions with cv 0\n",
      "total mirnas in interactions with cv 0\n",
      "\n",
      "('GENE_MIR', 'CHNAGE') 2\n",
      "('GENE_MIR', 'DOWN') 6158\n",
      "('GENE_MIR', 'NEU') 15147\n",
      "('GENE_MIR', 'UP') 6792\n",
      "('MIR_GENE', 'DOWN') 16938\n",
      "('MIR_GENE', 'NAN') 2\n",
      "('MIR_GENE', 'NEU') 33016\n",
      "('MIR_GENE', 'UP') 11229\n"
     ]
    }
   ],
   "source": [
    "def filterFunc(rel):\n",
    "    relDocID = rel.docid\n",
    "    \n",
    "    relDocPMID = pmid2pmcDB.pmc2pmid.get(relDocID, None)\n",
    "    \n",
    "    if relDocPMID == None:\n",
    "        # no abstract existing for PMC\n",
    "        return False\n",
    "    \n",
    "    mirObj = miRNA(rel.rid)\n",
    "\n",
    "    fullMirna = mirObj.getStringFromParts([miRNAPART.MATURE, miRNAPART.ID, miRNAPART.PRECURSOR, miRNAPART.MATURE_SEQS, miRNAPART.ARM])\n",
    "    baseMirna = mirObj.getStringFromParts(sourceCompLevel)\n",
    "    \n",
    "    gene = rel.lid\n",
    "    \n",
    "    for pmid in relDocPMID:\n",
    "        pmidInteractions = pmid2interactions[pmid]\n",
    "\n",
    "        if (gene, fullMirna) in pmidInteractions:\n",
    "            return True\n",
    "\n",
    "        if (gene, baseMirna) in pmidInteractions:\n",
    "            return True\n",
    "    \n",
    "    return False\n",
    "\n",
    "# only additional PMC miRNA-gene hits\n",
    "calculateStatistics(relDBs = [mirelPMChsa, mirelPMCmmu], filter=filterFunc)"
   ]
  },
  {
   "cell_type": "code",
   "execution_count": 63,
   "metadata": {},
   "outputs": [],
   "source": [
    "def filterFunc(rel):\n",
    "    relOrgs = rel.orgs\n",
    "    if relOrgs == None:\n",
    "        relOrgs = set()\n",
    "\n",
    "    if not ('mmu' in relOrgs or 'hsa' in relOrgs):\n",
    "        return True\n",
    "    \n",
    "    return False"
   ]
  },
  {
   "cell_type": "code",
   "execution_count": 65,
   "metadata": {},
   "outputs": [
    {
     "name": "stdout",
     "output_type": "stream",
     "text": [
      "Different miRNAs 1162\n",
      "Different miRNAs (full) 1530\n",
      "Different genes 7602\n",
      "total Interactions 72980\n",
      "total mirnas in interactions 1162\n",
      "total interactions with disease 21942\n",
      "total mirnas in interactions with disease 771\n",
      "total interactions with athero 617\n",
      "total mirnas in interactions with athero 119\n",
      "total genes in interactions with athero 305\n",
      "total pubmeds for interactions with athero 222\n",
      "total pubmeds for interactions with cv 1119\n",
      "total pubmeds for interactions 24859\n",
      "total interactions with cv 2772\n",
      "total mirnas in interactions with cv 302\n",
      "\n",
      "('GENE_MIR', 'CHNAGE') 2\n",
      "('GENE_MIR', 'DOWN') 9823\n",
      "('GENE_MIR', 'NEU') 20513\n",
      "('GENE_MIR', 'UP') 10254\n",
      "('MIR_GENE', 'DOWN') 27527\n",
      "('MIR_GENE', 'NAN') 2\n",
      "('MIR_GENE', 'NEU') 45994\n",
      "('MIR_GENE', 'UP') 16813\n"
     ]
    }
   ],
   "source": [
    "calculateStatistics(relDBs = [mirelPMIDhsa, mirelPMIDmmu, mirelPMChsa, mirelPMCmmu], filter=filterFunc)    "
   ]
  },
  {
   "cell_type": "code",
   "execution_count": 66,
   "metadata": {},
   "outputs": [
    {
     "name": "stdout",
     "output_type": "stream",
     "text": [
      "Different miRNAs 976\n",
      "Different miRNAs (full) 1252\n",
      "Different genes 6210\n",
      "total Interactions 53942\n",
      "total mirnas in interactions 976\n",
      "total interactions with disease 0\n",
      "total mirnas in interactions with disease 0\n",
      "total interactions with athero 0\n",
      "total mirnas in interactions with athero 0\n",
      "total genes in interactions with athero 0\n",
      "total pubmeds for interactions with athero 0\n",
      "total pubmeds for interactions with cv 0\n",
      "total pubmeds for interactions 9893\n",
      "total interactions with cv 0\n",
      "total mirnas in interactions with cv 0\n",
      "\n",
      "('GENE_MIR', 'CHNAGE') 2\n",
      "('GENE_MIR', 'DOWN') 7233\n",
      "('GENE_MIR', 'NEU') 16592\n",
      "('GENE_MIR', 'UP') 7756\n",
      "('MIR_GENE', 'DOWN') 18418\n",
      "('MIR_GENE', 'NAN') 2\n",
      "('MIR_GENE', 'NEU') 34079\n",
      "('MIR_GENE', 'UP') 12414\n"
     ]
    }
   ],
   "source": [
    "calculateStatistics(relDBs = [mirelPMChsa, mirelPMCmmu], filter=filterFunc)"
   ]
  },
  {
   "cell_type": "code",
   "execution_count": null,
   "metadata": {},
   "outputs": [],
   "source": [
    "def filterFunc(rel):\n",
    "    relOrgs = rel.orgs\n",
    "    if relOrgs == None:\n",
    "        relOrgs = set()\n",
    "\n",
    "    if not ('mmu' in relOrgs or 'hsa' in relOrgs):\n",
    "        return True\n",
    "    \n",
    "    return False"
   ]
  },
  {
   "cell_type": "code",
   "execution_count": null,
   "metadata": {},
   "outputs": [],
   "source": []
  },
  {
   "cell_type": "code",
   "execution_count": null,
   "metadata": {},
   "outputs": [],
   "source": []
  }
 ],
 "metadata": {
  "kernelspec": {
   "display_name": "Python 3",
   "language": "python",
   "name": "python3"
  },
  "language_info": {
   "codemirror_mode": {
    "name": "ipython",
    "version": 3
   },
   "file_extension": ".py",
   "mimetype": "text/x-python",
   "name": "python",
   "nbconvert_exporter": "python",
   "pygments_lexer": "ipython3",
   "version": "3.8.2"
  }
 },
 "nbformat": 4,
 "nbformat_minor": 4
}
