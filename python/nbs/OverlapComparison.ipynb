{
 "cells": [
  {
   "cell_type": "code",
   "execution_count": 1,
   "metadata": {},
   "outputs": [],
   "source": [
    "%load_ext autoreload\n",
    "%autoreload 2\n",
    "\n",
    "import os, sys\n",
    "import numpy\n",
    "from collections import defaultdict, Counter\n",
    "import datetime\n"
   ]
  },
  {
   "cell_type": "code",
   "execution_count": 2,
   "metadata": {},
   "outputs": [
    {
     "name": "stdout",
     "output_type": "stream",
     "text": [
      "/mnt/f/dev/git/miRExplore/python/nbs\n",
      "['/mnt/f/dev/git/miRExplore/python', '/mnt/f/dev/git/miRExplore/python/nbs', '/usr/lib/python38.zip', '/usr/lib/python3.8', '/usr/lib/python3.8/lib-dynload', '', '/usr/local/lib/python3.8/dist-packages', '/usr/local/lib/python3.8/dist-packages/mpld3-0.3.1.dev1-py3.8.egg', '/usr/lib/python3/dist-packages', '/usr/local/lib/python3.8/dist-packages/IPython/extensions', '/home/mjoppich/.ipython']\n"
     ]
    }
   ],
   "source": [
    "print(os.getcwd())\n",
    "sys.path.insert(0, str(os.path.dirname(os.path.realpath(os.getcwd()))))\n",
    "print(sys.path)"
   ]
  },
  {
   "cell_type": "code",
   "execution_count": 8,
   "metadata": {},
   "outputs": [],
   "source": [
    "%autoreload 2\n",
    "from textdb.PubmedDateDB import PubmedDateDB\n",
    "%autoreload 2\n",
    "from synonymes.mirnaID import miRNA, miRNAPART\n",
    "%autoreload 2\n",
    "from textdb.MiGenRelDB import MiGenRelDB,MiRGeneRel\n",
    "%autoreload 2\n",
    "from synonymes.GeneOntology import GeneOntology\n",
    "%autoreload 2\n",
    "from textdb.PMID2XDB import PMID2XDB\n",
    "\n",
    "from textdb.MirTarBaseDB import MirTarBaseDB\n",
    "from analysis.miRecordDB import miRecordDB\n",
    "from textdb.DIANATarbaseDB import DIANATarbaseDB"
   ]
  },
  {
   "cell_type": "code",
   "execution_count": 10,
   "metadata": {},
   "outputs": [],
   "source": [
    "pmidBase =\"/mnt/d/dev/data/pmid_jun2020/aggregated_pmid/\"\n",
    "obodir = \"/mnt/d/dev/data/pmid_jun2020/obodir/\"\n",
    "\n",
    "fileDir = os.path.dirname(os.path.realpath(os.getcwd()))"
   ]
  },
  {
   "cell_type": "code",
   "execution_count": 5,
   "metadata": {},
   "outputs": [],
   "source": [
    "from utils.tmutils import normalize_gene_names\n",
    "normGeneSymbols = normalize_gene_names(path=\"/mnt/d/owncloud/data/miRExplore/obodir/\" + \"/hgnc_no_withdrawn.syn\")"
   ]
  },
  {
   "cell_type": "code",
   "execution_count": 6,
   "metadata": {},
   "outputs": [
    {
     "name": "stdout",
     "output_type": "stream",
     "text": [
      "Loading hsa\n",
      "Gene Symbols Normalized 77476\n",
      "Loaded file /mnt/d/dev/data/pmid_jun2020/aggregated_pmid//mirna_gene.hsa.pmid\n",
      "Accepted Doc IDs 40682\n",
      "Rejected Doc IDs 0\n",
      "Seen genes 7906\n",
      "Seen miRNAs 2116\n",
      "Seen Harm. miRNAs 1615\n",
      "Loading mmu\n",
      "Gene Symbols Normalized 12366\n",
      "Loaded file /mnt/d/dev/data/pmid_jun2020/aggregated_pmid//mirna_gene.mmu.pmid\n",
      "Accepted Doc IDs 36942\n",
      "Rejected Doc IDs 0\n",
      "Seen genes 6428\n",
      "Seen miRNAs 2049\n",
      "Seen Harm. miRNAs 1578\n"
     ]
    }
   ],
   "source": [
    "print(\"Loading hsa\")\n",
    "mirelPMIDhsa = MiGenRelDB.loadFromFile(pmidBase + \"/mirna_gene.hsa.pmid\", ltype=\"mirna\", rtype=\"gene\", normGeneSymbols=normGeneSymbols, switchLR=True, stopAfter=-1)\n",
    "print(\"Loading mmu\")\n",
    "mirelPMIDmmu = MiGenRelDB.loadFromFile(pmidBase + \"/mirna_gene.mmu.pmid\", ltype=\"mirna\", rtype=\"gene\", normGeneSymbols=normGeneSymbols, switchLR=True, stopAfter=-1)\n",
    "\n",
    "relDBs = [mirelPMIDhsa, mirelPMIDmmu]"
   ]
  },
  {
   "cell_type": "code",
   "execution_count": 7,
   "metadata": {},
   "outputs": [],
   "source": [
    "tmInteractions = set()\n",
    "\n",
    "for rdb in relDBs:\n",
    "\n",
    "    for gene in rdb.ltype2rel:\n",
    "\n",
    "        for rel in rdb.ltype2rel[gene]:\n",
    "\n",
    "            mirObj = miRNA(rel.rid)\n",
    "\n",
    "            #fullMirna = mirObj.getStringFromParts([miRNAPART.MATURE, miRNAPART.ID, miRNAPART.PRECURSOR, miRNAPART.MATURE_SEQS, miRNAPART.ARM])\n",
    "            baseMirna = mirObj.getStringFromParts([miRNAPART.MATURE, miRNAPART.ID, miRNAPART.PRECURSOR])\n",
    "            intTuple = (rel.lid, baseMirna)\n",
    "\n",
    "            tmInteractions.add(intTuple)"
   ]
  },
  {
   "cell_type": "code",
   "execution_count": 9,
   "metadata": {},
   "outputs": [
    {
     "data": {
      "text/plain": [
       "58814"
      ]
     },
     "execution_count": 9,
     "metadata": {},
     "output_type": "execute_result"
    }
   ],
   "source": [
    "len(tmInteractions)"
   ]
  },
  {
   "cell_type": "code",
   "execution_count": 44,
   "metadata": {},
   "outputs": [
    {
     "data": {
      "text/plain": [
       "False"
      ]
     },
     "execution_count": 44,
     "metadata": {},
     "output_type": "execute_result"
    }
   ],
   "source": [
    "\"SMAD5\" in normGeneSymbols"
   ]
  },
  {
   "cell_type": "code",
   "execution_count": 43,
   "metadata": {},
   "outputs": [
    {
     "data": {
      "text/plain": [
       "True"
      ]
     },
     "execution_count": 43,
     "metadata": {},
     "output_type": "execute_result"
    }
   ],
   "source": [
    "gene=\"SMAD 5\"\n",
    "gene[-2] == ' ' and gene.replace(\" \", \"\") in normGeneSymbols"
   ]
  },
  {
   "cell_type": "code",
   "execution_count": 46,
   "metadata": {},
   "outputs": [
    {
     "name": "stdout",
     "output_type": "stream",
     "text": [
      "/mnt/d/dev/git/miRExplore/python/dbs/mirecords_v4.xlsx\n",
      "new\n",
      "SMAD1 GARS\n",
      "SMAD1 GARS\n",
      "SMAD5 SMAD5\n",
      "SMAD1 GARS\n",
      "SMAD1 GARS\n",
      "SMAD5 SMAD5\n",
      "SMAD5 SMAD5\n",
      "SMAD1 GARS\n",
      "SMAD1 GARS\n",
      "SMAD3 SMAD3\n",
      "SMAD2 SMAD2\n",
      "SMAD3 SMAD3\n",
      "SMAD 4 SMAD4\n",
      "SMAD 5 SMAD5\n",
      "SMAD3 SMAD3\n",
      "SMAD 4 SMAD4\n",
      "SMAD 5 SMAD5\n",
      "SMAD3 SMAD3\n",
      "SMAD 4 SMAD4\n",
      "SMAD 5 SMAD5\n",
      "Gene Symbols Normalized 280\n"
     ]
    }
   ],
   "source": [
    "recordsDB = miRecordDB.loadFromFile(filelocation=fileDir + \"/dbs/mirecords_v4.xlsx\", normGeneSymbols=normGeneSymbols)"
   ]
  },
  {
   "cell_type": "code",
   "execution_count": 38,
   "metadata": {},
   "outputs": [
    {
     "data": {
      "text/plain": [
       "['SMAD 5', 'C1ORF56', 'RPS6KA5', 'KCNH8', 'LASP1']"
      ]
     },
     "execution_count": 38,
     "metadata": {},
     "output_type": "execute_result"
    }
   ],
   "source": [
    "list(recordsDB.all_ltypes)[:5]"
   ]
  },
  {
   "cell_type": "code",
   "execution_count": 47,
   "metadata": {},
   "outputs": [],
   "source": [
    "mirecordsInteractions = set()\n",
    "\n",
    "for gene in recordsDB.ltype2rel:\n",
    "\n",
    "    for rel in recordsDB.ltype2rel[gene]:\n",
    "\n",
    "        mirObj = miRNA(rel.rid)\n",
    "\n",
    "        #fullMirna = mirObj.getStringFromParts([miRNAPART.MATURE, miRNAPART.ID, miRNAPART.PRECURSOR, miRNAPART.MATURE_SEQS, miRNAPART.ARM])\n",
    "        baseMirna = mirObj.getStringFromParts([miRNAPART.MATURE, miRNAPART.ID, miRNAPART.PRECURSOR])\n",
    "        intTuple = (rel.lid, baseMirna)\n",
    "\n",
    "        mirecordsInteractions.add(intTuple)"
   ]
  },
  {
   "cell_type": "code",
   "execution_count": 14,
   "metadata": {},
   "outputs": [
    {
     "data": {
      "text/plain": [
       "1851"
      ]
     },
     "execution_count": 14,
     "metadata": {},
     "output_type": "execute_result"
    }
   ],
   "source": [
    "len(mirecordsInteractions)"
   ]
  },
  {
   "cell_type": "code",
   "execution_count": 15,
   "metadata": {},
   "outputs": [
    {
     "name": "stdout",
     "output_type": "stream",
     "text": [
      "Gene Symbols Normalized 0\n"
     ]
    }
   ],
   "source": [
    "mirtarbaseDB = MirTarBaseDB.loadFromFile(filepath=fileDir + \"/dbs/miRTarBase.csv\", normGeneSymbols=normGeneSymbols)"
   ]
  },
  {
   "cell_type": "code",
   "execution_count": 18,
   "metadata": {},
   "outputs": [],
   "source": [
    "mirtarbaseInteractions = set()\n",
    "\n",
    "for gene in mirtarbaseDB.ltype2rel:\n",
    "\n",
    "    for rel in mirtarbaseDB.ltype2rel[gene]:\n",
    "\n",
    "        mirObj = miRNA(rel.rid)\n",
    "\n",
    "        #fullMirna = mirObj.getStringFromParts([miRNAPART.MATURE, miRNAPART.ID, miRNAPART.PRECURSOR, miRNAPART.MATURE_SEQS, miRNAPART.ARM])\n",
    "        baseMirna = mirObj.getStringFromParts([miRNAPART.MATURE, miRNAPART.ID, miRNAPART.PRECURSOR])\n",
    "        intTuple = (rel.lid, baseMirna)\n",
    "\n",
    "        mirtarbaseInteractions.add(intTuple)"
   ]
  },
  {
   "cell_type": "code",
   "execution_count": 19,
   "metadata": {},
   "outputs": [
    {
     "data": {
      "text/plain": [
       "355150"
      ]
     },
     "execution_count": 19,
     "metadata": {},
     "output_type": "execute_result"
    }
   ],
   "source": [
    "len(mirtarbaseInteractions)"
   ]
  },
  {
   "cell_type": "code",
   "execution_count": 20,
   "metadata": {},
   "outputs": [],
   "source": [
    "dianaDB, celllInfos = DIANATarbaseDB.loadFromFile(fileDir + \"/dbs/hsa_mmu.diana.csv\", normGeneSymbols=normGeneSymbols)"
   ]
  },
  {
   "cell_type": "code",
   "execution_count": 21,
   "metadata": {},
   "outputs": [],
   "source": [
    "dianaInteractions = set()\n",
    "\n",
    "for gene in dianaDB.ltype2rel:\n",
    "\n",
    "    for rel in dianaDB.ltype2rel[gene]:\n",
    "\n",
    "        mirObj = miRNA(rel.rid)\n",
    "\n",
    "        #fullMirna = mirObj.getStringFromParts([miRNAPART.MATURE, miRNAPART.ID, miRNAPART.PRECURSOR, miRNAPART.MATURE_SEQS, miRNAPART.ARM])\n",
    "        baseMirna = mirObj.getStringFromParts([miRNAPART.MATURE, miRNAPART.ID, miRNAPART.PRECURSOR])\n",
    "        intTuple = (rel.lid, baseMirna)\n",
    "\n",
    "        dianaInteractions.add(intTuple)"
   ]
  },
  {
   "cell_type": "code",
   "execution_count": 23,
   "metadata": {},
   "outputs": [
    {
     "data": {
      "text/plain": [
       "417820"
      ]
     },
     "execution_count": 23,
     "metadata": {},
     "output_type": "execute_result"
    }
   ],
   "source": [
    "len(dianaInteractions)"
   ]
  },
  {
   "cell_type": "code",
   "execution_count": 50,
   "metadata": {},
   "outputs": [],
   "source": [
    "source2interactions = {}\n",
    "source2interactions[\"tm\"] = tmInteractions\n",
    "source2interactions[\"miRecords\"] = mirecordsInteractions\n",
    "source2interactions[\"miRTarBase\"] = mirtarbaseInteractions\n",
    "source2interactions[\"DIANA-TarBase\"] = dianaInteractions"
   ]
  },
  {
   "cell_type": "code",
   "execution_count": 28,
   "metadata": {},
   "outputs": [
    {
     "data": {
      "text/plain": [
       "[('UBXN4', 'miR-548a'),\n",
       " ('DNAH1', 'miR-561'),\n",
       " ('HMGA2', 'miR-532'),\n",
       " ('LRP6', 'miR-499a'),\n",
       " ('SRSF3', 'miR-105'),\n",
       " ('FAM13A', 'let-7g'),\n",
       " ('PCDHA9', 'miR-124'),\n",
       " ('PTBP1', 'miR-582'),\n",
       " ('RHOBTB3', 'miR-186'),\n",
       " ('PRKD3', 'miR-122')]"
      ]
     },
     "execution_count": 28,
     "metadata": {},
     "output_type": "execute_result"
    }
   ],
   "source": [
    "list(dianaInteractions)[:10]"
   ]
  },
  {
   "cell_type": "code",
   "execution_count": 48,
   "metadata": {},
   "outputs": [
    {
     "name": "stdout",
     "output_type": "stream",
     "text": [
      "tm False\n",
      "tm False\n",
      "tm False\n",
      "miRecords False\n",
      "miRecords False\n",
      "miRecords False\n",
      "miRTarBase False\n",
      "miRTarBase False\n",
      "miRTarBase False\n",
      "DIANA-TarBase True\n",
      "DIANA-TarBase False\n",
      "DIANA-TarBase False\n"
     ]
    }
   ],
   "source": [
    "for x in source2interactions:\n",
    "    print(x, ('UBXN4', 'miR-548a') in source2interactions[x])\n",
    "    print(x, ('UBXDC1', 'miR-548a') in source2interactions[x])\n",
    "    print(x, ('UBXD2', 'miR-548a') in source2interactions[x])"
   ]
  },
  {
   "cell_type": "code",
   "execution_count": 52,
   "metadata": {},
   "outputs": [],
   "source": [
    "from upsetplot import from_contents,plot\n",
    "import matplotlib.pyplot as plt"
   ]
  },
  {
   "cell_type": "code",
   "execution_count": 53,
   "metadata": {},
   "outputs": [
    {
     "data": {
      "image/png": "[encoded data removed]",
      "text/plain": [
       "<Figure size 627.375x320 with 4 Axes>"
      ]
     },
     "metadata": {
      "needs_background": "light"
     },
     "output_type": "display_data"
    }
   ],
   "source": [
    "upIn = from_contents(source2interactions)\n",
    "plot(upIn, subset_size=\"auto\", show_counts =True)\n",
    "plt.savefig(\"database_overlap.png\")"
   ]
  },
  {
   "cell_type": "code",
   "execution_count": null,
   "metadata": {},
   "outputs": [],
   "source": []
  },
  {
   "cell_type": "code",
   "execution_count": null,
   "metadata": {},
   "outputs": [],
   "source": []
  },
  {
   "cell_type": "code",
   "execution_count": null,
   "metadata": {},
   "outputs": [],
   "source": []
  },
  {
   "cell_type": "code",
   "execution_count": null,
   "metadata": {},
   "outputs": [],
   "source": []
  },
  {
   "cell_type": "code",
   "execution_count": null,
   "metadata": {},
   "outputs": [],
   "source": []
  }
 ],
 "metadata": {
  "kernelspec": {
   "display_name": "Python 3",
   "language": "python",
   "name": "python3"
  },
  "language_info": {
   "codemirror_mode": {
    "name": "ipython",
    "version": 3
   },
   "file_extension": ".py",
   "mimetype": "text/x-python",
   "name": "python",
   "nbconvert_exporter": "python",
   "pygments_lexer": "ipython3",
   "version": "3.8.2"
  }
 },
 "nbformat": 4,
 "nbformat_minor": 4
}
