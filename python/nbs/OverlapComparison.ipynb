{
 "cells": [
  {
   "cell_type": "code",
   "execution_count": 30,
   "metadata": {},
   "outputs": [
    {
     "name": "stdout",
     "output_type": "stream",
     "text": [
      "The autoreload extension is already loaded. To reload it, use:\n",
      "  %reload_ext autoreload\n"
     ]
    }
   ],
   "source": [
    "%load_ext autoreload\n",
    "%autoreload 2\n",
    "\n",
    "import os, sys\n",
    "import numpy\n",
    "from collections import defaultdict, Counter, OrderedDict\n",
    "import datetime\n"
   ]
  },
  {
   "cell_type": "code",
   "execution_count": 2,
   "metadata": {},
   "outputs": [
    {
     "name": "stdout",
     "output_type": "stream",
     "text": [
      "/mnt/f/dev/git/miRExplore/python/nbs\n",
      "['/mnt/f/dev/git/miRExplore/python', '/mnt/f/dev/git/miRExplore/python/nbs', '/usr/lib/python38.zip', '/usr/lib/python3.8', '/usr/lib/python3.8/lib-dynload', '', '/home/mjoppich/.local/lib/python3.8/site-packages', '/home/mjoppich/.local/lib/python3.8/site-packages/pIMZ-1.0-py3.8-linux-x86_64.egg', '/home/mjoppich/.local/lib/python3.8/site-packages/progressbar-2.5-py3.8.egg', '/usr/lib/python3/dist-packages', '/usr/local/lib/python3.8/dist-packages', '/usr/local/lib/python3.8/dist-packages/mpld3-0.3.1.dev1-py3.8.egg', '/usr/local/lib/python3.8/dist-packages/IPython/extensions', '/home/mjoppich/.ipython']\n"
     ]
    }
   ],
   "source": [
    "print(os.getcwd())\n",
    "sys.path.insert(0, str(os.path.dirname(os.path.realpath(os.getcwd()))))\n",
    "print(sys.path)"
   ]
  },
  {
   "cell_type": "code",
   "execution_count": 7,
   "metadata": {},
   "outputs": [],
   "source": [
    "%autoreload 2\n",
    "from textdb.PubmedDateDB import PubmedDateDB\n",
    "%autoreload 2\n",
    "from synonymes.mirnaID import miRNA, miRNAPART\n",
    "%autoreload 2\n",
    "from textdb.MiGenRelDB import MiGenRelDB,MiRGeneRel\n",
    "%autoreload 2\n",
    "from synonymes.GeneOntology import GeneOntology\n",
    "%autoreload 2\n",
    "from textdb.PMID2XDB import PMID2XDB\n",
    "\n",
    "from textdb.MirTarBaseDB import MirTarBaseDB\n",
    "from analysis.miRecordDB import miRecordDB\n",
    "from textdb.DIANATarbaseDB import DIANATarbaseDB"
   ]
  },
  {
   "cell_type": "code",
   "execution_count": 9,
   "metadata": {},
   "outputs": [],
   "source": [
    "pmidBase =\"/mnt/d/dev/data/pmid_jun2020/aggregated_pmid/\"\n",
    "pmcBase =\"/mnt/d/dev/data/pmid_jun2020/aggregated_pmc/\"\n",
    "\n",
    "obodir = \"/mnt/d/dev/data/pmid_jun2020/obodir/\"\n",
    "\n",
    "fileDir = os.path.dirname(os.path.realpath(os.getcwd()))"
   ]
  },
  {
   "cell_type": "code",
   "execution_count": 5,
   "metadata": {},
   "outputs": [],
   "source": [
    "from utils.tmutils import normalize_gene_names\n",
    "normGeneSymbols = normalize_gene_names(path=\"/mnt/d/owncloud/data/miRExplore/obodir/\" + \"/hgnc_no_withdrawn.syn\")"
   ]
  },
  {
   "cell_type": "code",
   "execution_count": 8,
   "metadata": {},
   "outputs": [
    {
     "name": "stdout",
     "output_type": "stream",
     "text": [
      "Loading hsa\n",
      "Gene Symbols Normalized 77586\n",
      "Loaded file /mnt/d/dev/data/pmid_jun2020/aggregated_pmid//mirna_gene.hsa.pmid\n",
      "Accepted Doc IDs 40616\n",
      "Rejected Doc IDs 0\n",
      "Seen genes 7895\n",
      "Seen miRNAs 2086\n",
      "Seen Harm. miRNAs 1606\n",
      "Loading mmu\n",
      "Gene Symbols Normalized 12789\n",
      "Loaded file /mnt/d/dev/data/pmid_jun2020/aggregated_pmid//mirna_gene.mmu.pmid\n",
      "Accepted Doc IDs 36864\n",
      "Rejected Doc IDs 0\n",
      "Seen genes 6379\n",
      "Seen miRNAs 2015\n",
      "Seen Harm. miRNAs 1565\n"
     ]
    }
   ],
   "source": [
    "print(\"Loading hsa\")\n",
    "mirelPMIDhsa = MiGenRelDB.loadFromFile(pmidBase + \"/mirna_gene.hsa.pmid\", ltype=\"mirna\", rtype=\"gene\", normGeneSymbols=normGeneSymbols, switchLR=True, stopAfter=-1)\n",
    "print(\"Loading mmu\")\n",
    "mirelPMIDmmu = MiGenRelDB.loadFromFile(pmidBase + \"/mirna_gene.mmu.pmid\", ltype=\"mirna\", rtype=\"gene\", normGeneSymbols=normGeneSymbols, switchLR=True, stopAfter=-1)\n",
    "\n",
    "relDBs = [mirelPMIDhsa, mirelPMIDmmu]"
   ]
  },
  {
   "cell_type": "code",
   "execution_count": 10,
   "metadata": {},
   "outputs": [
    {
     "name": "stdout",
     "output_type": "stream",
     "text": [
      "Loading hsa\n",
      "Gene Symbols Normalized 104649\n",
      "Loaded file /mnt/d/dev/data/pmid_jun2020/aggregated_pmc//mirna_gene.hsa.pmid\n",
      "Accepted Doc IDs 10749\n",
      "Rejected Doc IDs 0\n",
      "Seen genes 6911\n",
      "Seen miRNAs 1868\n",
      "Seen Harm. miRNAs 1312\n",
      "Loading mmu\n",
      "Gene Symbols Normalized 23456\n",
      "Loaded file /mnt/d/dev/data/pmid_jun2020/aggregated_pmc//mirna_gene.mmu.pmid\n",
      "Accepted Doc IDs 10647\n",
      "Rejected Doc IDs 0\n",
      "Seen genes 6056\n",
      "Seen miRNAs 1872\n",
      "Seen Harm. miRNAs 1323\n"
     ]
    }
   ],
   "source": [
    "print(\"Loading hsa\")\n",
    "mirelPMChsa = MiGenRelDB.loadFromFile(pmcBase + \"/mirna_gene.hsa.pmid\", ltype=\"mirna\", rtype=\"gene\", normGeneSymbols=normGeneSymbols, switchLR=True, stopAfter=-1)\n",
    "print(\"Loading mmu\")\n",
    "mirelPMCmmu = MiGenRelDB.loadFromFile(pmcBase + \"/mirna_gene.mmu.pmid\", ltype=\"mirna\", rtype=\"gene\", normGeneSymbols=normGeneSymbols, switchLR=True, stopAfter=-1)\n",
    "\n",
    "relDBPMC = [mirelPMChsa, mirelPMCmmu]"
   ]
  },
  {
   "cell_type": "code",
   "execution_count": 11,
   "metadata": {},
   "outputs": [],
   "source": [
    "tmInteractions = set()\n",
    "\n",
    "for rdb in relDBs:\n",
    "\n",
    "    for gene in rdb.ltype2rel:\n",
    "\n",
    "        for rel in rdb.ltype2rel[gene]:\n",
    "\n",
    "            mirObj = miRNA(rel.rid)\n",
    "\n",
    "            #fullMirna = mirObj.getStringFromParts([miRNAPART.MATURE, miRNAPART.ID, miRNAPART.PRECURSOR, miRNAPART.MATURE_SEQS, miRNAPART.ARM])\n",
    "            baseMirna = mirObj.getStringFromParts([miRNAPART.MATURE, miRNAPART.ID, miRNAPART.PRECURSOR])\n",
    "            intTuple = (rel.lid, baseMirna)\n",
    "\n",
    "            tmInteractions.add(intTuple)"
   ]
  },
  {
   "cell_type": "code",
   "execution_count": 12,
   "metadata": {},
   "outputs": [],
   "source": [
    "tmInteractionsPMC = set()\n",
    "\n",
    "for rdb in relDBPMC:\n",
    "\n",
    "    for gene in rdb.ltype2rel:\n",
    "\n",
    "        for rel in rdb.ltype2rel[gene]:\n",
    "\n",
    "            mirObj = miRNA(rel.rid)\n",
    "\n",
    "            #fullMirna = mirObj.getStringFromParts([miRNAPART.MATURE, miRNAPART.ID, miRNAPART.PRECURSOR, miRNAPART.MATURE_SEQS, miRNAPART.ARM])\n",
    "            baseMirna = mirObj.getStringFromParts([miRNAPART.MATURE, miRNAPART.ID, miRNAPART.PRECURSOR])\n",
    "            intTuple = (rel.lid, baseMirna)\n",
    "\n",
    "            tmInteractionsPMC.add(intTuple)"
   ]
  },
  {
   "cell_type": "code",
   "execution_count": 13,
   "metadata": {},
   "outputs": [
    {
     "data": {
      "text/plain": [
       "53791"
      ]
     },
     "execution_count": 13,
     "metadata": {},
     "output_type": "execute_result"
    }
   ],
   "source": [
    "len(tmInteractions)"
   ]
  },
  {
   "cell_type": "code",
   "execution_count": 14,
   "metadata": {},
   "outputs": [
    {
     "data": {
      "text/plain": [
       "54499"
      ]
     },
     "execution_count": 14,
     "metadata": {},
     "output_type": "execute_result"
    }
   ],
   "source": [
    "len(tmInteractionsPMC)"
   ]
  },
  {
   "cell_type": "code",
   "execution_count": 44,
   "metadata": {},
   "outputs": [
    {
     "data": {
      "text/plain": [
       "False"
      ]
     },
     "execution_count": 44,
     "metadata": {},
     "output_type": "execute_result"
    }
   ],
   "source": [
    "\"SMAD5\" in normGeneSymbols"
   ]
  },
  {
   "cell_type": "code",
   "execution_count": 43,
   "metadata": {},
   "outputs": [
    {
     "data": {
      "text/plain": [
       "True"
      ]
     },
     "execution_count": 43,
     "metadata": {},
     "output_type": "execute_result"
    }
   ],
   "source": [
    "gene=\"SMAD 5\"\n",
    "gene[-2] == ' ' and gene.replace(\" \", \"\") in normGeneSymbols"
   ]
  },
  {
   "cell_type": "code",
   "execution_count": 15,
   "metadata": {},
   "outputs": [
    {
     "name": "stdout",
     "output_type": "stream",
     "text": [
      "/mnt/f/dev/git/miRExplore/python/dbs/mirecords_v4.xlsx\n",
      "new\n",
      "SMAD1 GARS\n",
      "SMAD1 GARS\n",
      "SMAD5 SMAD5\n",
      "SMAD1 GARS\n",
      "SMAD1 GARS\n",
      "SMAD5 SMAD5\n",
      "SMAD5 SMAD5\n",
      "SMAD1 GARS\n",
      "SMAD1 GARS\n",
      "SMAD3 SMAD3\n",
      "SMAD2 SMAD2\n",
      "SMAD3 SMAD3\n",
      "SMAD 4 SMAD4\n",
      "SMAD 5 SMAD5\n",
      "SMAD3 SMAD3\n",
      "SMAD 4 SMAD4\n",
      "SMAD 5 SMAD5\n",
      "SMAD3 SMAD3\n",
      "SMAD 4 SMAD4\n",
      "SMAD 5 SMAD5\n",
      "Gene Symbols Normalized 280\n"
     ]
    }
   ],
   "source": [
    "recordsDB = miRecordDB.loadFromFile(filelocation=fileDir + \"/dbs/mirecords_v4.xlsx\", normGeneSymbols=normGeneSymbols)"
   ]
  },
  {
   "cell_type": "code",
   "execution_count": 16,
   "metadata": {},
   "outputs": [
    {
     "data": {
      "text/plain": [
       "['CENPJ', 'TFAP4', 'CEBPB', 'DLL1', 'KCNQ1']"
      ]
     },
     "execution_count": 16,
     "metadata": {},
     "output_type": "execute_result"
    }
   ],
   "source": [
    "list(recordsDB.all_ltypes)[:5]"
   ]
  },
  {
   "cell_type": "code",
   "execution_count": 17,
   "metadata": {},
   "outputs": [],
   "source": [
    "mirecordsInteractions = set()\n",
    "\n",
    "for gene in recordsDB.ltype2rel:\n",
    "\n",
    "    for rel in recordsDB.ltype2rel[gene]:\n",
    "\n",
    "        mirObj = miRNA(rel.rid)\n",
    "\n",
    "        #fullMirna = mirObj.getStringFromParts([miRNAPART.MATURE, miRNAPART.ID, miRNAPART.PRECURSOR, miRNAPART.MATURE_SEQS, miRNAPART.ARM])\n",
    "        baseMirna = mirObj.getStringFromParts([miRNAPART.MATURE, miRNAPART.ID, miRNAPART.PRECURSOR])\n",
    "        intTuple = (rel.lid, baseMirna)\n",
    "\n",
    "        mirecordsInteractions.add(intTuple)"
   ]
  },
  {
   "cell_type": "code",
   "execution_count": 18,
   "metadata": {},
   "outputs": [
    {
     "data": {
      "text/plain": [
       "1851"
      ]
     },
     "execution_count": 18,
     "metadata": {},
     "output_type": "execute_result"
    }
   ],
   "source": [
    "len(mirecordsInteractions)"
   ]
  },
  {
   "cell_type": "code",
   "execution_count": 19,
   "metadata": {},
   "outputs": [
    {
     "name": "stdout",
     "output_type": "stream",
     "text": [
      "Gene Symbols Normalized 0\n"
     ]
    }
   ],
   "source": [
    "mirtarbaseDB = MirTarBaseDB.loadFromFile(filepath=fileDir + \"/dbs/miRTarBase.csv\", normGeneSymbols=normGeneSymbols)"
   ]
  },
  {
   "cell_type": "code",
   "execution_count": 20,
   "metadata": {},
   "outputs": [],
   "source": [
    "mirtarbaseInteractions = set()\n",
    "\n",
    "for gene in mirtarbaseDB.ltype2rel:\n",
    "\n",
    "    for rel in mirtarbaseDB.ltype2rel[gene]:\n",
    "\n",
    "        mirObj = miRNA(rel.rid)\n",
    "\n",
    "        #fullMirna = mirObj.getStringFromParts([miRNAPART.MATURE, miRNAPART.ID, miRNAPART.PRECURSOR, miRNAPART.MATURE_SEQS, miRNAPART.ARM])\n",
    "        baseMirna = mirObj.getStringFromParts([miRNAPART.MATURE, miRNAPART.ID, miRNAPART.PRECURSOR])\n",
    "        intTuple = (rel.lid, baseMirna)\n",
    "\n",
    "        mirtarbaseInteractions.add(intTuple)"
   ]
  },
  {
   "cell_type": "code",
   "execution_count": 21,
   "metadata": {},
   "outputs": [
    {
     "data": {
      "text/plain": [
       "355150"
      ]
     },
     "execution_count": 21,
     "metadata": {},
     "output_type": "execute_result"
    }
   ],
   "source": [
    "len(mirtarbaseInteractions)"
   ]
  },
  {
   "cell_type": "code",
   "execution_count": 22,
   "metadata": {},
   "outputs": [],
   "source": [
    "dianaDB, celllInfos = DIANATarbaseDB.loadFromFile(fileDir + \"/dbs/hsa_mmu.diana.csv\", normGeneSymbols=normGeneSymbols)"
   ]
  },
  {
   "cell_type": "code",
   "execution_count": 23,
   "metadata": {},
   "outputs": [],
   "source": [
    "dianaInteractions = set()\n",
    "\n",
    "for gene in dianaDB.ltype2rel:\n",
    "\n",
    "    for rel in dianaDB.ltype2rel[gene]:\n",
    "\n",
    "        mirObj = miRNA(rel.rid)\n",
    "\n",
    "        #fullMirna = mirObj.getStringFromParts([miRNAPART.MATURE, miRNAPART.ID, miRNAPART.PRECURSOR, miRNAPART.MATURE_SEQS, miRNAPART.ARM])\n",
    "        baseMirna = mirObj.getStringFromParts([miRNAPART.MATURE, miRNAPART.ID, miRNAPART.PRECURSOR])\n",
    "        intTuple = (rel.lid, baseMirna)\n",
    "\n",
    "        dianaInteractions.add(intTuple)"
   ]
  },
  {
   "cell_type": "code",
   "execution_count": 24,
   "metadata": {},
   "outputs": [
    {
     "data": {
      "text/plain": [
       "417820"
      ]
     },
     "execution_count": 24,
     "metadata": {},
     "output_type": "execute_result"
    }
   ],
   "source": [
    "len(dianaInteractions)"
   ]
  },
  {
   "cell_type": "code",
   "execution_count": 31,
   "metadata": {},
   "outputs": [],
   "source": [
    "source2interactions = OrderedDict()\n",
    "source2interactions[\"miRExplore/PMID\"] = tmInteractions\n",
    "source2interactions[\"miRExplore/PMC\"] = tmInteractionsPMC\n",
    "source2interactions[\"miRecords\"] = mirecordsInteractions\n",
    "source2interactions[\"miRTarBase\"] = mirtarbaseInteractions\n",
    "source2interactions[\"DIANA-TarBase\"] = dianaInteractions"
   ]
  },
  {
   "cell_type": "code",
   "execution_count": 26,
   "metadata": {},
   "outputs": [
    {
     "data": {
      "text/plain": [
       "[('CCNL2', 'miR-10a'),\n",
       " ('STX6', 'miR-1a'),\n",
       " ('IDS', 'miR-548i'),\n",
       " ('CAMK2N1', 'miR-577'),\n",
       " ('PIK3C2A', 'miR-25'),\n",
       " ('ANAPC13', 'miR-32'),\n",
       " ('CLINT1', 'miR-582'),\n",
       " ('SH3TC1', 'let-7b'),\n",
       " ('AP1G1', 'miR-1910'),\n",
       " ('BGN', 'miR-542')]"
      ]
     },
     "execution_count": 26,
     "metadata": {},
     "output_type": "execute_result"
    }
   ],
   "source": [
    "list(dianaInteractions)[:10]"
   ]
  },
  {
   "cell_type": "code",
   "execution_count": 27,
   "metadata": {},
   "outputs": [
    {
     "name": "stdout",
     "output_type": "stream",
     "text": [
      "miRExplore/PMID False\n",
      "miRExplore/PMID False\n",
      "miRExplore/PMID False\n",
      "miRExplore/PMC False\n",
      "miRExplore/PMC False\n",
      "miRExplore/PMC False\n",
      "miRecords False\n",
      "miRecords False\n",
      "miRecords False\n",
      "miRTarBase False\n",
      "miRTarBase False\n",
      "miRTarBase False\n",
      "DIANA-TarBase True\n",
      "DIANA-TarBase False\n",
      "DIANA-TarBase False\n"
     ]
    }
   ],
   "source": [
    "for x in source2interactions:\n",
    "    print(x, ('UBXN4', 'miR-548a') in source2interactions[x])\n",
    "    print(x, ('UBXDC1', 'miR-548a') in source2interactions[x])\n",
    "    print(x, ('UBXD2', 'miR-548a') in source2interactions[x])"
   ]
  },
  {
   "cell_type": "code",
   "execution_count": 28,
   "metadata": {},
   "outputs": [],
   "source": [
    "from upsetplot import from_contents,plot\n",
    "import matplotlib.pyplot as plt"
   ]
  },
  {
   "cell_type": "code",
   "execution_count": 32,
   "metadata": {},
   "outputs": [
    {
     "data": {
      "image/png": "[encoded data removed]",
      "text/plain": [
       "<Figure size 1151.25x352 with 4 Axes>"
      ]
     },
     "metadata": {
      "needs_background": "light"
     },
     "output_type": "display_data"
    }
   ],
   "source": [
    "upIn = from_contents(source2interactions)\n",
    "plot(upIn, subset_size=\"auto\", show_counts =True)\n",
    "plt.savefig(\"database_overlap.png\")"
   ]
  },
  {
   "cell_type": "code",
   "execution_count": null,
   "metadata": {},
   "outputs": [],
   "source": []
  },
  {
   "cell_type": "code",
   "execution_count": null,
   "metadata": {},
   "outputs": [],
   "source": []
  },
  {
   "cell_type": "code",
   "execution_count": null,
   "metadata": {},
   "outputs": [],
   "source": []
  },
  {
   "cell_type": "code",
   "execution_count": null,
   "metadata": {},
   "outputs": [],
   "source": []
  },
  {
   "cell_type": "code",
   "execution_count": null,
   "metadata": {},
   "outputs": [],
   "source": []
  }
 ],
 "metadata": {
  "kernelspec": {
   "display_name": "Python 3",
   "language": "python",
   "name": "python3"
  },
  "language_info": {
   "codemirror_mode": {
    "name": "ipython",
    "version": 3
   },
   "file_extension": ".py",
   "mimetype": "text/x-python",
   "name": "python",
   "nbconvert_exporter": "python",
   "pygments_lexer": "ipython3",
   "version": "3.8.5"
  }
 },
 "nbformat": 4,
 "nbformat_minor": 4
}
